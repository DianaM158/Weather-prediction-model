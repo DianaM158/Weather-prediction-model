{
 "cells": [
  {
   "cell_type": "markdown",
   "metadata": {},
   "source": [
    "# Rain Prediction in Australia \n",
    "\n",
    "\n",
    "\n",
    "With a predominant dry climate due to cold ocean currents and low elevation of landforms, more than 80% of Australia has an annual rainfall of less than 600 mm. For comparison purposes, the only other continent that receives less rainfall is Antarctica. The dry and arid climate factors  are the main contribuitors to the continent's high incidents of bushfires particulary during the summer months. Low relative humidity, wind and lack of rain can cause a small fire to spread rapidly. And so it is important to closely monitor and predict future rainy days. In this project I will try to predict upcoming rainy days in Australia, using a number of algorithms and choose the best one based on accuracy, performance and results. \n",
    "\n",
    "## Key Analytical Steps\n",
    "\n",
    "1. Data visualization and preparation.\n",
    "2. Training and testing the model.\n",
    "3. Interpret prediction results.\n",
    "4. Model comparison.\n",
    "5. Conclusion and recommendations. \n"
   ]
  },
  {
   "cell_type": "markdown",
   "metadata": {},
   "source": [
    " ### 1. Data visualization and preparation. \n",
    " \n",
    "The dataset that I am using for this analysis represents different weather indicators \n",
    "The dataset has a total of 142,193 observation distribueted over 24 columns/variables. My target variable is 'Rain Tomorrow'; a binary variables (yes, no), data type object. The remaining variables, represent the explenatory variables such as temperature, humidity, pressure, rainfall, evaporation etc. Most of the observations were recorded at a specific time of the day 9am and 3pm, over a 10 year period (2007 - 2017) and are spread between 49 cities. The following cells represent the data visualization methods that I use to better understand my dataset.\n"
   ]
  },
  {
   "cell_type": "code",
   "execution_count": 123,
   "metadata": {},
   "outputs": [],
   "source": [
    "#Import packages\n",
    "import pandas as pd\n",
    "import numpy as np\n",
    "import matplotlib.pyplot as plt\n",
    "import seaborn as sns\n",
    "%matplotlib inline"
   ]
  },
  {
   "cell_type": "markdown",
   "metadata": {},
   "source": [
    " - Open weatherAUS.csv as pandas dataframe."
   ]
  },
  {
   "cell_type": "code",
   "execution_count": 152,
   "metadata": {},
   "outputs": [
    {
     "data": {
      "text/html": [
       "<div>\n",
       "<style scoped>\n",
       "    .dataframe tbody tr th:only-of-type {\n",
       "        vertical-align: middle;\n",
       "    }\n",
       "\n",
       "    .dataframe tbody tr th {\n",
       "        vertical-align: top;\n",
       "    }\n",
       "\n",
       "    .dataframe thead th {\n",
       "        text-align: right;\n",
       "    }\n",
       "</style>\n",
       "<table border=\"1\" class=\"dataframe\">\n",
       "  <thead>\n",
       "    <tr style=\"text-align: right;\">\n",
       "      <th></th>\n",
       "      <th>Date</th>\n",
       "      <th>Location</th>\n",
       "      <th>MinTemp</th>\n",
       "      <th>MaxTemp</th>\n",
       "      <th>Rainfall</th>\n",
       "      <th>Evaporation</th>\n",
       "      <th>Sunshine</th>\n",
       "      <th>WindGustDir</th>\n",
       "      <th>WindGustSpeed</th>\n",
       "      <th>WindDir9am</th>\n",
       "      <th>...</th>\n",
       "      <th>Humidity3pm</th>\n",
       "      <th>Pressure9am</th>\n",
       "      <th>Pressure3pm</th>\n",
       "      <th>Cloud9am</th>\n",
       "      <th>Cloud3pm</th>\n",
       "      <th>Temp9am</th>\n",
       "      <th>Temp3pm</th>\n",
       "      <th>RainToday</th>\n",
       "      <th>RISK_MM</th>\n",
       "      <th>RainTomorrow</th>\n",
       "    </tr>\n",
       "  </thead>\n",
       "  <tbody>\n",
       "    <tr>\n",
       "      <td>0</td>\n",
       "      <td>2008-12-01</td>\n",
       "      <td>Albury</td>\n",
       "      <td>13.4</td>\n",
       "      <td>22.9</td>\n",
       "      <td>0.6</td>\n",
       "      <td>NaN</td>\n",
       "      <td>NaN</td>\n",
       "      <td>W</td>\n",
       "      <td>44.0</td>\n",
       "      <td>W</td>\n",
       "      <td>...</td>\n",
       "      <td>22.0</td>\n",
       "      <td>1007.7</td>\n",
       "      <td>1007.1</td>\n",
       "      <td>8.0</td>\n",
       "      <td>NaN</td>\n",
       "      <td>16.9</td>\n",
       "      <td>21.8</td>\n",
       "      <td>No</td>\n",
       "      <td>0.0</td>\n",
       "      <td>No</td>\n",
       "    </tr>\n",
       "    <tr>\n",
       "      <td>1</td>\n",
       "      <td>2008-12-02</td>\n",
       "      <td>Albury</td>\n",
       "      <td>7.4</td>\n",
       "      <td>25.1</td>\n",
       "      <td>0.0</td>\n",
       "      <td>NaN</td>\n",
       "      <td>NaN</td>\n",
       "      <td>WNW</td>\n",
       "      <td>44.0</td>\n",
       "      <td>NNW</td>\n",
       "      <td>...</td>\n",
       "      <td>25.0</td>\n",
       "      <td>1010.6</td>\n",
       "      <td>1007.8</td>\n",
       "      <td>NaN</td>\n",
       "      <td>NaN</td>\n",
       "      <td>17.2</td>\n",
       "      <td>24.3</td>\n",
       "      <td>No</td>\n",
       "      <td>0.0</td>\n",
       "      <td>No</td>\n",
       "    </tr>\n",
       "    <tr>\n",
       "      <td>2</td>\n",
       "      <td>2008-12-03</td>\n",
       "      <td>Albury</td>\n",
       "      <td>12.9</td>\n",
       "      <td>25.7</td>\n",
       "      <td>0.0</td>\n",
       "      <td>NaN</td>\n",
       "      <td>NaN</td>\n",
       "      <td>WSW</td>\n",
       "      <td>46.0</td>\n",
       "      <td>W</td>\n",
       "      <td>...</td>\n",
       "      <td>30.0</td>\n",
       "      <td>1007.6</td>\n",
       "      <td>1008.7</td>\n",
       "      <td>NaN</td>\n",
       "      <td>2.0</td>\n",
       "      <td>21.0</td>\n",
       "      <td>23.2</td>\n",
       "      <td>No</td>\n",
       "      <td>0.0</td>\n",
       "      <td>No</td>\n",
       "    </tr>\n",
       "    <tr>\n",
       "      <td>3</td>\n",
       "      <td>2008-12-04</td>\n",
       "      <td>Albury</td>\n",
       "      <td>9.2</td>\n",
       "      <td>28.0</td>\n",
       "      <td>0.0</td>\n",
       "      <td>NaN</td>\n",
       "      <td>NaN</td>\n",
       "      <td>NE</td>\n",
       "      <td>24.0</td>\n",
       "      <td>SE</td>\n",
       "      <td>...</td>\n",
       "      <td>16.0</td>\n",
       "      <td>1017.6</td>\n",
       "      <td>1012.8</td>\n",
       "      <td>NaN</td>\n",
       "      <td>NaN</td>\n",
       "      <td>18.1</td>\n",
       "      <td>26.5</td>\n",
       "      <td>No</td>\n",
       "      <td>1.0</td>\n",
       "      <td>No</td>\n",
       "    </tr>\n",
       "    <tr>\n",
       "      <td>4</td>\n",
       "      <td>2008-12-05</td>\n",
       "      <td>Albury</td>\n",
       "      <td>17.5</td>\n",
       "      <td>32.3</td>\n",
       "      <td>1.0</td>\n",
       "      <td>NaN</td>\n",
       "      <td>NaN</td>\n",
       "      <td>W</td>\n",
       "      <td>41.0</td>\n",
       "      <td>ENE</td>\n",
       "      <td>...</td>\n",
       "      <td>33.0</td>\n",
       "      <td>1010.8</td>\n",
       "      <td>1006.0</td>\n",
       "      <td>7.0</td>\n",
       "      <td>8.0</td>\n",
       "      <td>17.8</td>\n",
       "      <td>29.7</td>\n",
       "      <td>No</td>\n",
       "      <td>0.2</td>\n",
       "      <td>No</td>\n",
       "    </tr>\n",
       "  </tbody>\n",
       "</table>\n",
       "<p>5 rows × 24 columns</p>\n",
       "</div>"
      ],
      "text/plain": [
       "         Date Location  MinTemp  MaxTemp  Rainfall  Evaporation  Sunshine  \\\n",
       "0  2008-12-01   Albury     13.4     22.9       0.6          NaN       NaN   \n",
       "1  2008-12-02   Albury      7.4     25.1       0.0          NaN       NaN   \n",
       "2  2008-12-03   Albury     12.9     25.7       0.0          NaN       NaN   \n",
       "3  2008-12-04   Albury      9.2     28.0       0.0          NaN       NaN   \n",
       "4  2008-12-05   Albury     17.5     32.3       1.0          NaN       NaN   \n",
       "\n",
       "  WindGustDir  WindGustSpeed WindDir9am  ... Humidity3pm  Pressure9am  \\\n",
       "0           W           44.0          W  ...        22.0       1007.7   \n",
       "1         WNW           44.0        NNW  ...        25.0       1010.6   \n",
       "2         WSW           46.0          W  ...        30.0       1007.6   \n",
       "3          NE           24.0         SE  ...        16.0       1017.6   \n",
       "4           W           41.0        ENE  ...        33.0       1010.8   \n",
       "\n",
       "   Pressure3pm  Cloud9am  Cloud3pm  Temp9am  Temp3pm  RainToday  RISK_MM  \\\n",
       "0       1007.1       8.0       NaN     16.9     21.8         No      0.0   \n",
       "1       1007.8       NaN       NaN     17.2     24.3         No      0.0   \n",
       "2       1008.7       NaN       2.0     21.0     23.2         No      0.0   \n",
       "3       1012.8       NaN       NaN     18.1     26.5         No      1.0   \n",
       "4       1006.0       7.0       8.0     17.8     29.7         No      0.2   \n",
       "\n",
       "   RainTomorrow  \n",
       "0            No  \n",
       "1            No  \n",
       "2            No  \n",
       "3            No  \n",
       "4            No  \n",
       "\n",
       "[5 rows x 24 columns]"
      ]
     },
     "execution_count": 152,
     "metadata": {},
     "output_type": "execute_result"
    }
   ],
   "source": [
    "#Open dataset.\n",
    "df = pd.read_csv('weatherAUS.csv')\n",
    "df.head()"
   ]
  },
  {
   "cell_type": "markdown",
   "metadata": {},
   "source": [
    " - I used .shape to find out the number of observations and columns."
   ]
  },
  {
   "cell_type": "code",
   "execution_count": 3,
   "metadata": {},
   "outputs": [
    {
     "data": {
      "text/plain": [
       "(142193, 24)"
      ]
     },
     "execution_count": 3,
     "metadata": {},
     "output_type": "execute_result"
    }
   ],
   "source": [
    "#There are 142,193 of observations and 24 variables/columns. \n",
    "df.shape"
   ]
  },
  {
   "cell_type": "markdown",
   "metadata": {},
   "source": [
    " - Check variables data types using df.info()\n",
    " There are 7 categorical variables, including the target variable and 17 numerical variables. "
   ]
  },
  {
   "cell_type": "code",
   "execution_count": 86,
   "metadata": {},
   "outputs": [
    {
     "name": "stdout",
     "output_type": "stream",
     "text": [
      "<class 'pandas.core.frame.DataFrame'>\n",
      "RangeIndex: 142193 entries, 0 to 142192\n",
      "Data columns (total 24 columns):\n",
      "Date             142193 non-null object\n",
      "Location         142193 non-null object\n",
      "MinTemp          141556 non-null float64\n",
      "MaxTemp          141871 non-null float64\n",
      "Rainfall         140787 non-null float64\n",
      "Evaporation      81350 non-null float64\n",
      "Sunshine         74377 non-null float64\n",
      "WindGustDir      132863 non-null object\n",
      "WindGustSpeed    132923 non-null float64\n",
      "WindDir9am       132180 non-null object\n",
      "WindDir3pm       138415 non-null object\n",
      "WindSpeed9am     140845 non-null float64\n",
      "WindSpeed3pm     139563 non-null float64\n",
      "Humidity9am      140419 non-null float64\n",
      "Humidity3pm      138583 non-null float64\n",
      "Pressure9am      128179 non-null float64\n",
      "Pressure3pm      128212 non-null float64\n",
      "Cloud9am         88536 non-null float64\n",
      "Cloud3pm         85099 non-null float64\n",
      "Temp9am          141289 non-null float64\n",
      "Temp3pm          139467 non-null float64\n",
      "RainToday        140787 non-null object\n",
      "RISK_MM          142193 non-null float64\n",
      "RainTomorrow     142193 non-null object\n",
      "dtypes: float64(17), object(7)\n",
      "memory usage: 26.0+ MB\n"
     ]
    }
   ],
   "source": [
    "#Categorical variables = type object\n",
    "#Numerical variables = type float64\n",
    "df.info()"
   ]
  },
  {
   "cell_type": "markdown",
   "metadata": {},
   "source": [
    " - I now have a closer look at the target variable, Rain Tomorrow. I already know is a binary variable, but I am interested in the data distribution. I want to see how many rainy and non rainy days I have over a ten year period. For this step I will be using value_counts() to see how many observations I have for each value and illustrate the result as a bar chart using seaborn package. The values bellow highlight that 78% of the observation return non rainy day. Clearly Australia had a dry decade. "
   ]
  },
  {
   "cell_type": "code",
   "execution_count": 5,
   "metadata": {},
   "outputs": [
    {
     "data": {
      "text/plain": [
       "array(['No', 'Yes'], dtype=object)"
      ]
     },
     "execution_count": 5,
     "metadata": {},
     "output_type": "execute_result"
    }
   ],
   "source": [
    "#Explore target variable: RainTomorrow\n",
    "#Outcome variable is a binary variable with no null values. \n",
    "df.RainTomorrow.unique()"
   ]
  },
  {
   "cell_type": "code",
   "execution_count": 6,
   "metadata": {},
   "outputs": [
    {
     "data": {
      "text/plain": [
       "No     110316\n",
       "Yes     31877\n",
       "Name: RainTomorrow, dtype: int64"
      ]
     },
     "execution_count": 6,
     "metadata": {},
     "output_type": "execute_result"
    }
   ],
   "source": [
    "#View distribution of target variable.\n",
    "#No appears 77.58% times and Yes appears 22.42% times.\n",
    "df['RainTomorrow'].value_counts()"
   ]
  },
  {
   "cell_type": "code",
   "execution_count": 105,
   "metadata": {},
   "outputs": [
    {
     "data": {
      "text/plain": [
       "<matplotlib.axes._subplots.AxesSubplot at 0x1e5a771d470>"
      ]
     },
     "execution_count": 105,
     "metadata": {},
     "output_type": "execute_result"
    },
    {
     "data": {
      "image/png": "[encoded data removed]",
      "text/plain": [
       "<Figure size 576x576 with 1 Axes>"
      ]
     },
     "metadata": {
      "needs_background": "light"
     },
     "output_type": "display_data"
    }
   ],
   "source": [
    "#Bar Chart \n",
    "plt.figure(figsize=(8,8))\n",
    "sns.countplot(data=df,x='RainTomorrow')\n"
   ]
  },
  {
   "cell_type": "markdown",
   "metadata": {},
   "source": [
    "I also want to see the distribution of the targer variable in comparison to other factors, such as year and month. From Date column, I will extract first the year and display it as barplot. Then I will do the same with the month. From the illustrations bellow I can see that overall the majority of the observation are non rainy days, with a slightly increase in  rainy days in the years of 2010 and 2017 as well as for the months June and July. "
   ]
  },
  {
   "cell_type": "code",
   "execution_count": 146,
   "metadata": {},
   "outputs": [
    {
     "data": {
      "text/plain": [
       "<matplotlib.axes._subplots.AxesSubplot at 0x1fee0bccef0>"
      ]
     },
     "execution_count": 146,
     "metadata": {},
     "output_type": "execute_result"
    },
    {
     "data": {
      "image/png": "[encoded data removed]",
      "text/plain": [
       "<Figure size 576x576 with 1 Axes>"
      ]
     },
     "metadata": {
      "needs_background": "light"
     },
     "output_type": "display_data"
    }
   ],
   "source": [
    "# Target variable distribution over time frame period. \n",
    "df['Date'] = pd.to_datetime( df['Date'] ).dt.year\n",
    "#Bar Chart \n",
    "plt.figure(figsize=(8,8))\n",
    "sns.countplot(data=df,x='Date', hue=\"RainTomorrow\")"
   ]
  },
  {
   "cell_type": "code",
   "execution_count": 153,
   "metadata": {},
   "outputs": [
    {
     "data": {
      "text/plain": [
       "<matplotlib.axes._subplots.AxesSubplot at 0x1fee0c37a58>"
      ]
     },
     "execution_count": 153,
     "metadata": {},
     "output_type": "execute_result"
    },
    {
     "data": {
      "image/png": "[encoded data removed]",
      "text/plain": [
       "<Figure size 576x576 with 1 Axes>"
      ]
     },
     "metadata": {
      "needs_background": "light"
     },
     "output_type": "display_data"
    }
   ],
   "source": [
    "#Target variable distribution for each month. \n",
    "df['Date'] = pd.to_datetime( df['Date'] ).dt.month\n",
    "df.rename(columns={'Date':'Month'}, inplace=True)\n",
    "df.head()\n",
    "plt.figure(figsize=(8,8))\n",
    "sns.countplot(data=df,x='Month', hue=\"RainTomorrow\")"
   ]
  },
  {
   "cell_type": "markdown",
   "metadata": {},
   "source": [
    "- Now that have a good idea of how the outcome variable is distributied over the dataset I will the pre-processing analysis. For this part of the project I will be performing a number of data cleaning methods to prepare the dataset for training. For these oerations I will be using dataframe.map()\n",
    "        - Keep only the month from the date format and rename the column to 'Month'/\n",
    "        - Change all variables with data type object to integer. \n",
    "        - Check for null values. Delete the columns with more than 50% nulls and the remaining null values fill up with means. \n"
   ]
  },
  {
   "cell_type": "code",
   "execution_count": 154,
   "metadata": {},
   "outputs": [
    {
     "data": {
      "text/html": [
       "<div>\n",
       "<style scoped>\n",
       "    .dataframe tbody tr th:only-of-type {\n",
       "        vertical-align: middle;\n",
       "    }\n",
       "\n",
       "    .dataframe tbody tr th {\n",
       "        vertical-align: top;\n",
       "    }\n",
       "\n",
       "    .dataframe thead th {\n",
       "        text-align: right;\n",
       "    }\n",
       "</style>\n",
       "<table border=\"1\" class=\"dataframe\">\n",
       "  <thead>\n",
       "    <tr style=\"text-align: right;\">\n",
       "      <th></th>\n",
       "      <th>Month</th>\n",
       "      <th>Location</th>\n",
       "      <th>MinTemp</th>\n",
       "      <th>MaxTemp</th>\n",
       "      <th>Rainfall</th>\n",
       "      <th>Evaporation</th>\n",
       "      <th>Sunshine</th>\n",
       "      <th>WindGustDir</th>\n",
       "      <th>WindGustSpeed</th>\n",
       "      <th>WindDir9am</th>\n",
       "      <th>...</th>\n",
       "      <th>Humidity3pm</th>\n",
       "      <th>Pressure9am</th>\n",
       "      <th>Pressure3pm</th>\n",
       "      <th>Cloud9am</th>\n",
       "      <th>Cloud3pm</th>\n",
       "      <th>Temp9am</th>\n",
       "      <th>Temp3pm</th>\n",
       "      <th>RainToday</th>\n",
       "      <th>RISK_MM</th>\n",
       "      <th>RainTomorrow</th>\n",
       "    </tr>\n",
       "  </thead>\n",
       "  <tbody>\n",
       "    <tr>\n",
       "      <td>0</td>\n",
       "      <td>12</td>\n",
       "      <td>Albury</td>\n",
       "      <td>13.4</td>\n",
       "      <td>22.9</td>\n",
       "      <td>0.6</td>\n",
       "      <td>NaN</td>\n",
       "      <td>NaN</td>\n",
       "      <td>W</td>\n",
       "      <td>44.0</td>\n",
       "      <td>W</td>\n",
       "      <td>...</td>\n",
       "      <td>22.0</td>\n",
       "      <td>1007.7</td>\n",
       "      <td>1007.1</td>\n",
       "      <td>8.0</td>\n",
       "      <td>NaN</td>\n",
       "      <td>16.9</td>\n",
       "      <td>21.8</td>\n",
       "      <td>0.0</td>\n",
       "      <td>0.0</td>\n",
       "      <td>0</td>\n",
       "    </tr>\n",
       "    <tr>\n",
       "      <td>1</td>\n",
       "      <td>12</td>\n",
       "      <td>Albury</td>\n",
       "      <td>7.4</td>\n",
       "      <td>25.1</td>\n",
       "      <td>0.0</td>\n",
       "      <td>NaN</td>\n",
       "      <td>NaN</td>\n",
       "      <td>WNW</td>\n",
       "      <td>44.0</td>\n",
       "      <td>NNW</td>\n",
       "      <td>...</td>\n",
       "      <td>25.0</td>\n",
       "      <td>1010.6</td>\n",
       "      <td>1007.8</td>\n",
       "      <td>NaN</td>\n",
       "      <td>NaN</td>\n",
       "      <td>17.2</td>\n",
       "      <td>24.3</td>\n",
       "      <td>0.0</td>\n",
       "      <td>0.0</td>\n",
       "      <td>0</td>\n",
       "    </tr>\n",
       "    <tr>\n",
       "      <td>2</td>\n",
       "      <td>12</td>\n",
       "      <td>Albury</td>\n",
       "      <td>12.9</td>\n",
       "      <td>25.7</td>\n",
       "      <td>0.0</td>\n",
       "      <td>NaN</td>\n",
       "      <td>NaN</td>\n",
       "      <td>WSW</td>\n",
       "      <td>46.0</td>\n",
       "      <td>W</td>\n",
       "      <td>...</td>\n",
       "      <td>30.0</td>\n",
       "      <td>1007.6</td>\n",
       "      <td>1008.7</td>\n",
       "      <td>NaN</td>\n",
       "      <td>2.0</td>\n",
       "      <td>21.0</td>\n",
       "      <td>23.2</td>\n",
       "      <td>0.0</td>\n",
       "      <td>0.0</td>\n",
       "      <td>0</td>\n",
       "    </tr>\n",
       "    <tr>\n",
       "      <td>3</td>\n",
       "      <td>12</td>\n",
       "      <td>Albury</td>\n",
       "      <td>9.2</td>\n",
       "      <td>28.0</td>\n",
       "      <td>0.0</td>\n",
       "      <td>NaN</td>\n",
       "      <td>NaN</td>\n",
       "      <td>NE</td>\n",
       "      <td>24.0</td>\n",
       "      <td>SE</td>\n",
       "      <td>...</td>\n",
       "      <td>16.0</td>\n",
       "      <td>1017.6</td>\n",
       "      <td>1012.8</td>\n",
       "      <td>NaN</td>\n",
       "      <td>NaN</td>\n",
       "      <td>18.1</td>\n",
       "      <td>26.5</td>\n",
       "      <td>0.0</td>\n",
       "      <td>1.0</td>\n",
       "      <td>0</td>\n",
       "    </tr>\n",
       "    <tr>\n",
       "      <td>4</td>\n",
       "      <td>12</td>\n",
       "      <td>Albury</td>\n",
       "      <td>17.5</td>\n",
       "      <td>32.3</td>\n",
       "      <td>1.0</td>\n",
       "      <td>NaN</td>\n",
       "      <td>NaN</td>\n",
       "      <td>W</td>\n",
       "      <td>41.0</td>\n",
       "      <td>ENE</td>\n",
       "      <td>...</td>\n",
       "      <td>33.0</td>\n",
       "      <td>1010.8</td>\n",
       "      <td>1006.0</td>\n",
       "      <td>7.0</td>\n",
       "      <td>8.0</td>\n",
       "      <td>17.8</td>\n",
       "      <td>29.7</td>\n",
       "      <td>0.0</td>\n",
       "      <td>0.2</td>\n",
       "      <td>0</td>\n",
       "    </tr>\n",
       "  </tbody>\n",
       "</table>\n",
       "<p>5 rows × 24 columns</p>\n",
       "</div>"
      ],
      "text/plain": [
       "   Month Location  MinTemp  MaxTemp  Rainfall  Evaporation  Sunshine  \\\n",
       "0     12   Albury     13.4     22.9       0.6          NaN       NaN   \n",
       "1     12   Albury      7.4     25.1       0.0          NaN       NaN   \n",
       "2     12   Albury     12.9     25.7       0.0          NaN       NaN   \n",
       "3     12   Albury      9.2     28.0       0.0          NaN       NaN   \n",
       "4     12   Albury     17.5     32.3       1.0          NaN       NaN   \n",
       "\n",
       "  WindGustDir  WindGustSpeed WindDir9am  ... Humidity3pm  Pressure9am  \\\n",
       "0           W           44.0          W  ...        22.0       1007.7   \n",
       "1         WNW           44.0        NNW  ...        25.0       1010.6   \n",
       "2         WSW           46.0          W  ...        30.0       1007.6   \n",
       "3          NE           24.0         SE  ...        16.0       1017.6   \n",
       "4           W           41.0        ENE  ...        33.0       1010.8   \n",
       "\n",
       "   Pressure3pm  Cloud9am  Cloud3pm  Temp9am  Temp3pm  RainToday  RISK_MM  \\\n",
       "0       1007.1       8.0       NaN     16.9     21.8        0.0      0.0   \n",
       "1       1007.8       NaN       NaN     17.2     24.3        0.0      0.0   \n",
       "2       1008.7       NaN       2.0     21.0     23.2        0.0      0.0   \n",
       "3       1012.8       NaN       NaN     18.1     26.5        0.0      1.0   \n",
       "4       1006.0       7.0       8.0     17.8     29.7        0.0      0.2   \n",
       "\n",
       "   RainTomorrow  \n",
       "0             0  \n",
       "1             0  \n",
       "2             0  \n",
       "3             0  \n",
       "4             0  \n",
       "\n",
       "[5 rows x 24 columns]"
      ]
     },
     "execution_count": 154,
     "metadata": {},
     "output_type": "execute_result"
    }
   ],
   "source": [
    "#Change target data type from object type (No, Yes) to integer(0,1).\n",
    "df['RainTomorrow'] = df['RainTomorrow'].map( {'No':0, 'Yes': 1} ) \n",
    "df['RainToday'] = df['RainToday'].map( {'No':0, 'Yes': 1} ) \n",
    "df.head()"
   ]
  },
  {
   "cell_type": "markdown",
   "metadata": {},
   "source": [
    "I am changing Location data type, by displaying the city names as a list, then adding an index and store it as dictionary. Lastly, use map method to change the name of the city with the associated index. I used the same approach for the ramining object type variables. \n"
   ]
  },
  {
   "cell_type": "code",
   "execution_count": 89,
   "metadata": {},
   "outputs": [
    {
     "data": {
      "text/plain": [
       "['Canberra',\n",
       " 'Sydney',\n",
       " 'Perth',\n",
       " 'Darwin',\n",
       " 'Hobart',\n",
       " 'Brisbane',\n",
       " 'Adelaide',\n",
       " 'Bendigo',\n",
       " 'Townsville',\n",
       " 'AliceSprings',\n",
       " 'MountGambier',\n",
       " 'Ballarat',\n",
       " 'Launceston',\n",
       " 'Albany',\n",
       " 'Albury',\n",
       " 'MelbourneAirport',\n",
       " 'PerthAirport',\n",
       " 'Mildura',\n",
       " 'SydneyAirport',\n",
       " 'Nuriootpa',\n",
       " 'Sale',\n",
       " 'Watsonia',\n",
       " 'Tuggeranong',\n",
       " 'Portland',\n",
       " 'Woomera',\n",
       " 'Cobar',\n",
       " 'Cairns',\n",
       " 'Wollongong',\n",
       " 'GoldCoast',\n",
       " 'WaggaWagga',\n",
       " 'NorfolkIsland',\n",
       " 'Penrith',\n",
       " 'SalmonGums',\n",
       " 'Newcastle',\n",
       " 'CoffsHarbour',\n",
       " 'Witchcliffe',\n",
       " 'Richmond',\n",
       " 'Dartmoor',\n",
       " 'NorahHead',\n",
       " 'BadgerysCreek',\n",
       " 'MountGinini',\n",
       " 'Moree',\n",
       " 'Walpole',\n",
       " 'PearceRAAF',\n",
       " 'Williamtown',\n",
       " 'Melbourne',\n",
       " 'Nhil',\n",
       " 'Katherine',\n",
       " 'Uluru']"
      ]
     },
     "execution_count": 89,
     "metadata": {},
     "output_type": "execute_result"
    }
   ],
   "source": [
    "#Change Location data type. \n",
    "Location_list = df['Location'].value_counts().index.tolist() \n",
    "Location_list "
   ]
  },
  {
   "cell_type": "code",
   "execution_count": 90,
   "metadata": {},
   "outputs": [
    {
     "data": {
      "text/plain": [
       "{'Canberra': 0,\n",
       " 'Sydney': 1,\n",
       " 'Perth': 2,\n",
       " 'Darwin': 3,\n",
       " 'Hobart': 4,\n",
       " 'Brisbane': 5,\n",
       " 'Adelaide': 6,\n",
       " 'Bendigo': 7,\n",
       " 'Townsville': 8,\n",
       " 'AliceSprings': 9,\n",
       " 'MountGambier': 10,\n",
       " 'Ballarat': 11,\n",
       " 'Launceston': 12,\n",
       " 'Albany': 13,\n",
       " 'Albury': 14,\n",
       " 'MelbourneAirport': 15,\n",
       " 'PerthAirport': 16,\n",
       " 'Mildura': 17,\n",
       " 'SydneyAirport': 18,\n",
       " 'Nuriootpa': 19,\n",
       " 'Sale': 20,\n",
       " 'Watsonia': 21,\n",
       " 'Tuggeranong': 22,\n",
       " 'Portland': 23,\n",
       " 'Woomera': 24,\n",
       " 'Cobar': 25,\n",
       " 'Cairns': 26,\n",
       " 'Wollongong': 27,\n",
       " 'GoldCoast': 28,\n",
       " 'WaggaWagga': 29,\n",
       " 'NorfolkIsland': 30,\n",
       " 'Penrith': 31,\n",
       " 'SalmonGums': 32,\n",
       " 'Newcastle': 33,\n",
       " 'CoffsHarbour': 34,\n",
       " 'Witchcliffe': 35,\n",
       " 'Richmond': 36,\n",
       " 'Dartmoor': 37,\n",
       " 'NorahHead': 38,\n",
       " 'BadgerysCreek': 39,\n",
       " 'MountGinini': 40,\n",
       " 'Moree': 41,\n",
       " 'Walpole': 42,\n",
       " 'PearceRAAF': 43,\n",
       " 'Williamtown': 44,\n",
       " 'Melbourne': 45,\n",
       " 'Nhil': 46,\n",
       " 'Katherine': 47,\n",
       " 'Uluru': 48}"
      ]
     },
     "execution_count": 90,
     "metadata": {},
     "output_type": "execute_result"
    }
   ],
   "source": [
    "Location_dict = { i:j for i,j in zip( Location_list, range(len(Location_list)) ) } \n",
    "Location_dict"
   ]
  },
  {
   "cell_type": "code",
   "execution_count": 91,
   "metadata": {},
   "outputs": [
    {
     "data": {
      "text/html": [
       "<div>\n",
       "<style scoped>\n",
       "    .dataframe tbody tr th:only-of-type {\n",
       "        vertical-align: middle;\n",
       "    }\n",
       "\n",
       "    .dataframe tbody tr th {\n",
       "        vertical-align: top;\n",
       "    }\n",
       "\n",
       "    .dataframe thead th {\n",
       "        text-align: right;\n",
       "    }\n",
       "</style>\n",
       "<table border=\"1\" class=\"dataframe\">\n",
       "  <thead>\n",
       "    <tr style=\"text-align: right;\">\n",
       "      <th></th>\n",
       "      <th>Month</th>\n",
       "      <th>Location</th>\n",
       "      <th>MinTemp</th>\n",
       "      <th>MaxTemp</th>\n",
       "      <th>Rainfall</th>\n",
       "      <th>Evaporation</th>\n",
       "      <th>Sunshine</th>\n",
       "      <th>WindGustDir</th>\n",
       "      <th>WindGustSpeed</th>\n",
       "      <th>WindDir9am</th>\n",
       "      <th>...</th>\n",
       "      <th>Humidity3pm</th>\n",
       "      <th>Pressure9am</th>\n",
       "      <th>Pressure3pm</th>\n",
       "      <th>Cloud9am</th>\n",
       "      <th>Cloud3pm</th>\n",
       "      <th>Temp9am</th>\n",
       "      <th>Temp3pm</th>\n",
       "      <th>RainToday</th>\n",
       "      <th>RISK_MM</th>\n",
       "      <th>RainTomorrow</th>\n",
       "    </tr>\n",
       "  </thead>\n",
       "  <tbody>\n",
       "    <tr>\n",
       "      <td>0</td>\n",
       "      <td>12</td>\n",
       "      <td>14</td>\n",
       "      <td>13.4</td>\n",
       "      <td>22.9</td>\n",
       "      <td>0.6</td>\n",
       "      <td>NaN</td>\n",
       "      <td>NaN</td>\n",
       "      <td>W</td>\n",
       "      <td>44.0</td>\n",
       "      <td>W</td>\n",
       "      <td>...</td>\n",
       "      <td>22.0</td>\n",
       "      <td>1007.7</td>\n",
       "      <td>1007.1</td>\n",
       "      <td>8.0</td>\n",
       "      <td>NaN</td>\n",
       "      <td>16.9</td>\n",
       "      <td>21.8</td>\n",
       "      <td>0.0</td>\n",
       "      <td>0.0</td>\n",
       "      <td>0</td>\n",
       "    </tr>\n",
       "    <tr>\n",
       "      <td>1</td>\n",
       "      <td>12</td>\n",
       "      <td>14</td>\n",
       "      <td>7.4</td>\n",
       "      <td>25.1</td>\n",
       "      <td>0.0</td>\n",
       "      <td>NaN</td>\n",
       "      <td>NaN</td>\n",
       "      <td>WNW</td>\n",
       "      <td>44.0</td>\n",
       "      <td>NNW</td>\n",
       "      <td>...</td>\n",
       "      <td>25.0</td>\n",
       "      <td>1010.6</td>\n",
       "      <td>1007.8</td>\n",
       "      <td>NaN</td>\n",
       "      <td>NaN</td>\n",
       "      <td>17.2</td>\n",
       "      <td>24.3</td>\n",
       "      <td>0.0</td>\n",
       "      <td>0.0</td>\n",
       "      <td>0</td>\n",
       "    </tr>\n",
       "    <tr>\n",
       "      <td>2</td>\n",
       "      <td>12</td>\n",
       "      <td>14</td>\n",
       "      <td>12.9</td>\n",
       "      <td>25.7</td>\n",
       "      <td>0.0</td>\n",
       "      <td>NaN</td>\n",
       "      <td>NaN</td>\n",
       "      <td>WSW</td>\n",
       "      <td>46.0</td>\n",
       "      <td>W</td>\n",
       "      <td>...</td>\n",
       "      <td>30.0</td>\n",
       "      <td>1007.6</td>\n",
       "      <td>1008.7</td>\n",
       "      <td>NaN</td>\n",
       "      <td>2.0</td>\n",
       "      <td>21.0</td>\n",
       "      <td>23.2</td>\n",
       "      <td>0.0</td>\n",
       "      <td>0.0</td>\n",
       "      <td>0</td>\n",
       "    </tr>\n",
       "    <tr>\n",
       "      <td>3</td>\n",
       "      <td>12</td>\n",
       "      <td>14</td>\n",
       "      <td>9.2</td>\n",
       "      <td>28.0</td>\n",
       "      <td>0.0</td>\n",
       "      <td>NaN</td>\n",
       "      <td>NaN</td>\n",
       "      <td>NE</td>\n",
       "      <td>24.0</td>\n",
       "      <td>SE</td>\n",
       "      <td>...</td>\n",
       "      <td>16.0</td>\n",
       "      <td>1017.6</td>\n",
       "      <td>1012.8</td>\n",
       "      <td>NaN</td>\n",
       "      <td>NaN</td>\n",
       "      <td>18.1</td>\n",
       "      <td>26.5</td>\n",
       "      <td>0.0</td>\n",
       "      <td>1.0</td>\n",
       "      <td>0</td>\n",
       "    </tr>\n",
       "    <tr>\n",
       "      <td>4</td>\n",
       "      <td>12</td>\n",
       "      <td>14</td>\n",
       "      <td>17.5</td>\n",
       "      <td>32.3</td>\n",
       "      <td>1.0</td>\n",
       "      <td>NaN</td>\n",
       "      <td>NaN</td>\n",
       "      <td>W</td>\n",
       "      <td>41.0</td>\n",
       "      <td>ENE</td>\n",
       "      <td>...</td>\n",
       "      <td>33.0</td>\n",
       "      <td>1010.8</td>\n",
       "      <td>1006.0</td>\n",
       "      <td>7.0</td>\n",
       "      <td>8.0</td>\n",
       "      <td>17.8</td>\n",
       "      <td>29.7</td>\n",
       "      <td>0.0</td>\n",
       "      <td>0.2</td>\n",
       "      <td>0</td>\n",
       "    </tr>\n",
       "  </tbody>\n",
       "</table>\n",
       "<p>5 rows × 24 columns</p>\n",
       "</div>"
      ],
      "text/plain": [
       "   Month  Location  MinTemp  MaxTemp  Rainfall  Evaporation  Sunshine  \\\n",
       "0     12        14     13.4     22.9       0.6          NaN       NaN   \n",
       "1     12        14      7.4     25.1       0.0          NaN       NaN   \n",
       "2     12        14     12.9     25.7       0.0          NaN       NaN   \n",
       "3     12        14      9.2     28.0       0.0          NaN       NaN   \n",
       "4     12        14     17.5     32.3       1.0          NaN       NaN   \n",
       "\n",
       "  WindGustDir  WindGustSpeed WindDir9am  ... Humidity3pm  Pressure9am  \\\n",
       "0           W           44.0          W  ...        22.0       1007.7   \n",
       "1         WNW           44.0        NNW  ...        25.0       1010.6   \n",
       "2         WSW           46.0          W  ...        30.0       1007.6   \n",
       "3          NE           24.0         SE  ...        16.0       1017.6   \n",
       "4           W           41.0        ENE  ...        33.0       1010.8   \n",
       "\n",
       "   Pressure3pm  Cloud9am  Cloud3pm  Temp9am  Temp3pm  RainToday  RISK_MM  \\\n",
       "0       1007.1       8.0       NaN     16.9     21.8        0.0      0.0   \n",
       "1       1007.8       NaN       NaN     17.2     24.3        0.0      0.0   \n",
       "2       1008.7       NaN       2.0     21.0     23.2        0.0      0.0   \n",
       "3       1012.8       NaN       NaN     18.1     26.5        0.0      1.0   \n",
       "4       1006.0       7.0       8.0     17.8     29.7        0.0      0.2   \n",
       "\n",
       "   RainTomorrow  \n",
       "0             0  \n",
       "1             0  \n",
       "2             0  \n",
       "3             0  \n",
       "4             0  \n",
       "\n",
       "[5 rows x 24 columns]"
      ]
     },
     "execution_count": 91,
     "metadata": {},
     "output_type": "execute_result"
    }
   ],
   "source": [
    "df['Location'] = df['Location'].map( Location_dict ) \n",
    "df.head()"
   ]
  },
  {
   "cell_type": "code",
   "execution_count": 92,
   "metadata": {},
   "outputs": [
    {
     "data": {
      "text/html": [
       "<div>\n",
       "<style scoped>\n",
       "    .dataframe tbody tr th:only-of-type {\n",
       "        vertical-align: middle;\n",
       "    }\n",
       "\n",
       "    .dataframe tbody tr th {\n",
       "        vertical-align: top;\n",
       "    }\n",
       "\n",
       "    .dataframe thead th {\n",
       "        text-align: right;\n",
       "    }\n",
       "</style>\n",
       "<table border=\"1\" class=\"dataframe\">\n",
       "  <thead>\n",
       "    <tr style=\"text-align: right;\">\n",
       "      <th></th>\n",
       "      <th>Month</th>\n",
       "      <th>Location</th>\n",
       "      <th>MinTemp</th>\n",
       "      <th>MaxTemp</th>\n",
       "      <th>Rainfall</th>\n",
       "      <th>Evaporation</th>\n",
       "      <th>Sunshine</th>\n",
       "      <th>WindGustDir</th>\n",
       "      <th>WindGustSpeed</th>\n",
       "      <th>WindDir9am</th>\n",
       "      <th>...</th>\n",
       "      <th>Humidity3pm</th>\n",
       "      <th>Pressure9am</th>\n",
       "      <th>Pressure3pm</th>\n",
       "      <th>Cloud9am</th>\n",
       "      <th>Cloud3pm</th>\n",
       "      <th>Temp9am</th>\n",
       "      <th>Temp3pm</th>\n",
       "      <th>RainToday</th>\n",
       "      <th>RISK_MM</th>\n",
       "      <th>RainTomorrow</th>\n",
       "    </tr>\n",
       "  </thead>\n",
       "  <tbody>\n",
       "    <tr>\n",
       "      <td>0</td>\n",
       "      <td>12</td>\n",
       "      <td>14</td>\n",
       "      <td>13.4</td>\n",
       "      <td>22.9</td>\n",
       "      <td>0.6</td>\n",
       "      <td>NaN</td>\n",
       "      <td>NaN</td>\n",
       "      <td>0.0</td>\n",
       "      <td>44.0</td>\n",
       "      <td>W</td>\n",
       "      <td>...</td>\n",
       "      <td>22.0</td>\n",
       "      <td>1007.7</td>\n",
       "      <td>1007.1</td>\n",
       "      <td>8.0</td>\n",
       "      <td>NaN</td>\n",
       "      <td>16.9</td>\n",
       "      <td>21.8</td>\n",
       "      <td>0.0</td>\n",
       "      <td>0.0</td>\n",
       "      <td>0</td>\n",
       "    </tr>\n",
       "    <tr>\n",
       "      <td>1</td>\n",
       "      <td>12</td>\n",
       "      <td>14</td>\n",
       "      <td>7.4</td>\n",
       "      <td>25.1</td>\n",
       "      <td>0.0</td>\n",
       "      <td>NaN</td>\n",
       "      <td>NaN</td>\n",
       "      <td>9.0</td>\n",
       "      <td>44.0</td>\n",
       "      <td>NNW</td>\n",
       "      <td>...</td>\n",
       "      <td>25.0</td>\n",
       "      <td>1010.6</td>\n",
       "      <td>1007.8</td>\n",
       "      <td>NaN</td>\n",
       "      <td>NaN</td>\n",
       "      <td>17.2</td>\n",
       "      <td>24.3</td>\n",
       "      <td>0.0</td>\n",
       "      <td>0.0</td>\n",
       "      <td>0</td>\n",
       "    </tr>\n",
       "    <tr>\n",
       "      <td>2</td>\n",
       "      <td>12</td>\n",
       "      <td>14</td>\n",
       "      <td>12.9</td>\n",
       "      <td>25.7</td>\n",
       "      <td>0.0</td>\n",
       "      <td>NaN</td>\n",
       "      <td>NaN</td>\n",
       "      <td>6.0</td>\n",
       "      <td>46.0</td>\n",
       "      <td>W</td>\n",
       "      <td>...</td>\n",
       "      <td>30.0</td>\n",
       "      <td>1007.6</td>\n",
       "      <td>1008.7</td>\n",
       "      <td>NaN</td>\n",
       "      <td>2.0</td>\n",
       "      <td>21.0</td>\n",
       "      <td>23.2</td>\n",
       "      <td>0.0</td>\n",
       "      <td>0.0</td>\n",
       "      <td>0</td>\n",
       "    </tr>\n",
       "    <tr>\n",
       "      <td>3</td>\n",
       "      <td>12</td>\n",
       "      <td>14</td>\n",
       "      <td>9.2</td>\n",
       "      <td>28.0</td>\n",
       "      <td>0.0</td>\n",
       "      <td>NaN</td>\n",
       "      <td>NaN</td>\n",
       "      <td>13.0</td>\n",
       "      <td>24.0</td>\n",
       "      <td>SE</td>\n",
       "      <td>...</td>\n",
       "      <td>16.0</td>\n",
       "      <td>1017.6</td>\n",
       "      <td>1012.8</td>\n",
       "      <td>NaN</td>\n",
       "      <td>NaN</td>\n",
       "      <td>18.1</td>\n",
       "      <td>26.5</td>\n",
       "      <td>0.0</td>\n",
       "      <td>1.0</td>\n",
       "      <td>0</td>\n",
       "    </tr>\n",
       "    <tr>\n",
       "      <td>4</td>\n",
       "      <td>12</td>\n",
       "      <td>14</td>\n",
       "      <td>17.5</td>\n",
       "      <td>32.3</td>\n",
       "      <td>1.0</td>\n",
       "      <td>NaN</td>\n",
       "      <td>NaN</td>\n",
       "      <td>0.0</td>\n",
       "      <td>41.0</td>\n",
       "      <td>ENE</td>\n",
       "      <td>...</td>\n",
       "      <td>33.0</td>\n",
       "      <td>1010.8</td>\n",
       "      <td>1006.0</td>\n",
       "      <td>7.0</td>\n",
       "      <td>8.0</td>\n",
       "      <td>17.8</td>\n",
       "      <td>29.7</td>\n",
       "      <td>0.0</td>\n",
       "      <td>0.2</td>\n",
       "      <td>0</td>\n",
       "    </tr>\n",
       "  </tbody>\n",
       "</table>\n",
       "<p>5 rows × 24 columns</p>\n",
       "</div>"
      ],
      "text/plain": [
       "   Month  Location  MinTemp  MaxTemp  Rainfall  Evaporation  Sunshine  \\\n",
       "0     12        14     13.4     22.9       0.6          NaN       NaN   \n",
       "1     12        14      7.4     25.1       0.0          NaN       NaN   \n",
       "2     12        14     12.9     25.7       0.0          NaN       NaN   \n",
       "3     12        14      9.2     28.0       0.0          NaN       NaN   \n",
       "4     12        14     17.5     32.3       1.0          NaN       NaN   \n",
       "\n",
       "   WindGustDir  WindGustSpeed WindDir9am  ... Humidity3pm  Pressure9am  \\\n",
       "0          0.0           44.0          W  ...        22.0       1007.7   \n",
       "1          9.0           44.0        NNW  ...        25.0       1010.6   \n",
       "2          6.0           46.0          W  ...        30.0       1007.6   \n",
       "3         13.0           24.0         SE  ...        16.0       1017.6   \n",
       "4          0.0           41.0        ENE  ...        33.0       1010.8   \n",
       "\n",
       "   Pressure3pm  Cloud9am  Cloud3pm  Temp9am  Temp3pm  RainToday  RISK_MM  \\\n",
       "0       1007.1       8.0       NaN     16.9     21.8        0.0      0.0   \n",
       "1       1007.8       NaN       NaN     17.2     24.3        0.0      0.0   \n",
       "2       1008.7       NaN       2.0     21.0     23.2        0.0      0.0   \n",
       "3       1012.8       NaN       NaN     18.1     26.5        0.0      1.0   \n",
       "4       1006.0       7.0       8.0     17.8     29.7        0.0      0.2   \n",
       "\n",
       "   RainTomorrow  \n",
       "0             0  \n",
       "1             0  \n",
       "2             0  \n",
       "3             0  \n",
       "4             0  \n",
       "\n",
       "[5 rows x 24 columns]"
      ]
     },
     "execution_count": 92,
     "metadata": {},
     "output_type": "execute_result"
    }
   ],
   "source": [
    "#Change WindGustDir data type. \n",
    "WindGustDir_list = df['WindGustDir'].value_counts().index.tolist()\n",
    "WindGustDir_dict = { i:j for i,j in zip( WindGustDir_list, range(len(WindGustDir_list)) ) } \n",
    "df['WindGustDir'] = df['WindGustDir'].map(WindGustDir_dict)\n",
    "df.head()"
   ]
  },
  {
   "cell_type": "code",
   "execution_count": 93,
   "metadata": {},
   "outputs": [
    {
     "data": {
      "text/html": [
       "<div>\n",
       "<style scoped>\n",
       "    .dataframe tbody tr th:only-of-type {\n",
       "        vertical-align: middle;\n",
       "    }\n",
       "\n",
       "    .dataframe tbody tr th {\n",
       "        vertical-align: top;\n",
       "    }\n",
       "\n",
       "    .dataframe thead th {\n",
       "        text-align: right;\n",
       "    }\n",
       "</style>\n",
       "<table border=\"1\" class=\"dataframe\">\n",
       "  <thead>\n",
       "    <tr style=\"text-align: right;\">\n",
       "      <th></th>\n",
       "      <th>Month</th>\n",
       "      <th>Location</th>\n",
       "      <th>MinTemp</th>\n",
       "      <th>MaxTemp</th>\n",
       "      <th>Rainfall</th>\n",
       "      <th>Evaporation</th>\n",
       "      <th>Sunshine</th>\n",
       "      <th>WindGustDir</th>\n",
       "      <th>WindGustSpeed</th>\n",
       "      <th>WindDir9am</th>\n",
       "      <th>...</th>\n",
       "      <th>Humidity3pm</th>\n",
       "      <th>Pressure9am</th>\n",
       "      <th>Pressure3pm</th>\n",
       "      <th>Cloud9am</th>\n",
       "      <th>Cloud3pm</th>\n",
       "      <th>Temp9am</th>\n",
       "      <th>Temp3pm</th>\n",
       "      <th>RainToday</th>\n",
       "      <th>RISK_MM</th>\n",
       "      <th>RainTomorrow</th>\n",
       "    </tr>\n",
       "  </thead>\n",
       "  <tbody>\n",
       "    <tr>\n",
       "      <td>0</td>\n",
       "      <td>12</td>\n",
       "      <td>14</td>\n",
       "      <td>13.4</td>\n",
       "      <td>22.9</td>\n",
       "      <td>0.6</td>\n",
       "      <td>NaN</td>\n",
       "      <td>NaN</td>\n",
       "      <td>0.0</td>\n",
       "      <td>44.0</td>\n",
       "      <td>6.0</td>\n",
       "      <td>...</td>\n",
       "      <td>22.0</td>\n",
       "      <td>1007.7</td>\n",
       "      <td>1007.1</td>\n",
       "      <td>8.0</td>\n",
       "      <td>NaN</td>\n",
       "      <td>16.9</td>\n",
       "      <td>21.8</td>\n",
       "      <td>0.0</td>\n",
       "      <td>0.0</td>\n",
       "      <td>0</td>\n",
       "    </tr>\n",
       "    <tr>\n",
       "      <td>1</td>\n",
       "      <td>12</td>\n",
       "      <td>14</td>\n",
       "      <td>7.4</td>\n",
       "      <td>25.1</td>\n",
       "      <td>0.0</td>\n",
       "      <td>NaN</td>\n",
       "      <td>NaN</td>\n",
       "      <td>9.0</td>\n",
       "      <td>44.0</td>\n",
       "      <td>9.0</td>\n",
       "      <td>...</td>\n",
       "      <td>25.0</td>\n",
       "      <td>1010.6</td>\n",
       "      <td>1007.8</td>\n",
       "      <td>NaN</td>\n",
       "      <td>NaN</td>\n",
       "      <td>17.2</td>\n",
       "      <td>24.3</td>\n",
       "      <td>0.0</td>\n",
       "      <td>0.0</td>\n",
       "      <td>0</td>\n",
       "    </tr>\n",
       "    <tr>\n",
       "      <td>2</td>\n",
       "      <td>12</td>\n",
       "      <td>14</td>\n",
       "      <td>12.9</td>\n",
       "      <td>25.7</td>\n",
       "      <td>0.0</td>\n",
       "      <td>NaN</td>\n",
       "      <td>NaN</td>\n",
       "      <td>6.0</td>\n",
       "      <td>46.0</td>\n",
       "      <td>6.0</td>\n",
       "      <td>...</td>\n",
       "      <td>30.0</td>\n",
       "      <td>1007.6</td>\n",
       "      <td>1008.7</td>\n",
       "      <td>NaN</td>\n",
       "      <td>2.0</td>\n",
       "      <td>21.0</td>\n",
       "      <td>23.2</td>\n",
       "      <td>0.0</td>\n",
       "      <td>0.0</td>\n",
       "      <td>0</td>\n",
       "    </tr>\n",
       "    <tr>\n",
       "      <td>3</td>\n",
       "      <td>12</td>\n",
       "      <td>14</td>\n",
       "      <td>9.2</td>\n",
       "      <td>28.0</td>\n",
       "      <td>0.0</td>\n",
       "      <td>NaN</td>\n",
       "      <td>NaN</td>\n",
       "      <td>13.0</td>\n",
       "      <td>24.0</td>\n",
       "      <td>1.0</td>\n",
       "      <td>...</td>\n",
       "      <td>16.0</td>\n",
       "      <td>1017.6</td>\n",
       "      <td>1012.8</td>\n",
       "      <td>NaN</td>\n",
       "      <td>NaN</td>\n",
       "      <td>18.1</td>\n",
       "      <td>26.5</td>\n",
       "      <td>0.0</td>\n",
       "      <td>1.0</td>\n",
       "      <td>0</td>\n",
       "    </tr>\n",
       "    <tr>\n",
       "      <td>4</td>\n",
       "      <td>12</td>\n",
       "      <td>14</td>\n",
       "      <td>17.5</td>\n",
       "      <td>32.3</td>\n",
       "      <td>1.0</td>\n",
       "      <td>NaN</td>\n",
       "      <td>NaN</td>\n",
       "      <td>0.0</td>\n",
       "      <td>41.0</td>\n",
       "      <td>10.0</td>\n",
       "      <td>...</td>\n",
       "      <td>33.0</td>\n",
       "      <td>1010.8</td>\n",
       "      <td>1006.0</td>\n",
       "      <td>7.0</td>\n",
       "      <td>8.0</td>\n",
       "      <td>17.8</td>\n",
       "      <td>29.7</td>\n",
       "      <td>0.0</td>\n",
       "      <td>0.2</td>\n",
       "      <td>0</td>\n",
       "    </tr>\n",
       "  </tbody>\n",
       "</table>\n",
       "<p>5 rows × 24 columns</p>\n",
       "</div>"
      ],
      "text/plain": [
       "   Month  Location  MinTemp  MaxTemp  Rainfall  Evaporation  Sunshine  \\\n",
       "0     12        14     13.4     22.9       0.6          NaN       NaN   \n",
       "1     12        14      7.4     25.1       0.0          NaN       NaN   \n",
       "2     12        14     12.9     25.7       0.0          NaN       NaN   \n",
       "3     12        14      9.2     28.0       0.0          NaN       NaN   \n",
       "4     12        14     17.5     32.3       1.0          NaN       NaN   \n",
       "\n",
       "   WindGustDir  WindGustSpeed  WindDir9am  ... Humidity3pm  Pressure9am  \\\n",
       "0          0.0           44.0         6.0  ...        22.0       1007.7   \n",
       "1          9.0           44.0         9.0  ...        25.0       1010.6   \n",
       "2          6.0           46.0         6.0  ...        30.0       1007.6   \n",
       "3         13.0           24.0         1.0  ...        16.0       1017.6   \n",
       "4          0.0           41.0        10.0  ...        33.0       1010.8   \n",
       "\n",
       "   Pressure3pm  Cloud9am  Cloud3pm  Temp9am  Temp3pm  RainToday  RISK_MM  \\\n",
       "0       1007.1       8.0       NaN     16.9     21.8        0.0      0.0   \n",
       "1       1007.8       NaN       NaN     17.2     24.3        0.0      0.0   \n",
       "2       1008.7       NaN       2.0     21.0     23.2        0.0      0.0   \n",
       "3       1012.8       NaN       NaN     18.1     26.5        0.0      1.0   \n",
       "4       1006.0       7.0       8.0     17.8     29.7        0.0      0.2   \n",
       "\n",
       "   RainTomorrow  \n",
       "0             0  \n",
       "1             0  \n",
       "2             0  \n",
       "3             0  \n",
       "4             0  \n",
       "\n",
       "[5 rows x 24 columns]"
      ]
     },
     "execution_count": 93,
     "metadata": {},
     "output_type": "execute_result"
    }
   ],
   "source": [
    "#Change WindDir9am data type. \n",
    "WindDir9am_list = df['WindDir9am'].value_counts().index.tolist()\n",
    "WindDir9am_dict = { i:j for i,j in zip( WindDir9am_list, range(len(WindDir9am_list)) ) } \n",
    "df['WindDir9am'] = df['WindDir9am'].map(WindDir9am_dict)\n",
    "df.head()"
   ]
  },
  {
   "cell_type": "code",
   "execution_count": 94,
   "metadata": {},
   "outputs": [
    {
     "data": {
      "text/html": [
       "<div>\n",
       "<style scoped>\n",
       "    .dataframe tbody tr th:only-of-type {\n",
       "        vertical-align: middle;\n",
       "    }\n",
       "\n",
       "    .dataframe tbody tr th {\n",
       "        vertical-align: top;\n",
       "    }\n",
       "\n",
       "    .dataframe thead th {\n",
       "        text-align: right;\n",
       "    }\n",
       "</style>\n",
       "<table border=\"1\" class=\"dataframe\">\n",
       "  <thead>\n",
       "    <tr style=\"text-align: right;\">\n",
       "      <th></th>\n",
       "      <th>Month</th>\n",
       "      <th>Location</th>\n",
       "      <th>MinTemp</th>\n",
       "      <th>MaxTemp</th>\n",
       "      <th>Rainfall</th>\n",
       "      <th>Evaporation</th>\n",
       "      <th>Sunshine</th>\n",
       "      <th>WindGustDir</th>\n",
       "      <th>WindGustSpeed</th>\n",
       "      <th>WindDir9am</th>\n",
       "      <th>...</th>\n",
       "      <th>Humidity3pm</th>\n",
       "      <th>Pressure9am</th>\n",
       "      <th>Pressure3pm</th>\n",
       "      <th>Cloud9am</th>\n",
       "      <th>Cloud3pm</th>\n",
       "      <th>Temp9am</th>\n",
       "      <th>Temp3pm</th>\n",
       "      <th>RainToday</th>\n",
       "      <th>RISK_MM</th>\n",
       "      <th>RainTomorrow</th>\n",
       "    </tr>\n",
       "  </thead>\n",
       "  <tbody>\n",
       "    <tr>\n",
       "      <td>0</td>\n",
       "      <td>12</td>\n",
       "      <td>14</td>\n",
       "      <td>13.4</td>\n",
       "      <td>22.9</td>\n",
       "      <td>0.6</td>\n",
       "      <td>NaN</td>\n",
       "      <td>NaN</td>\n",
       "      <td>0.0</td>\n",
       "      <td>44.0</td>\n",
       "      <td>6.0</td>\n",
       "      <td>...</td>\n",
       "      <td>22.0</td>\n",
       "      <td>1007.7</td>\n",
       "      <td>1007.1</td>\n",
       "      <td>8.0</td>\n",
       "      <td>NaN</td>\n",
       "      <td>16.9</td>\n",
       "      <td>21.8</td>\n",
       "      <td>0.0</td>\n",
       "      <td>0.0</td>\n",
       "      <td>0</td>\n",
       "    </tr>\n",
       "    <tr>\n",
       "      <td>1</td>\n",
       "      <td>12</td>\n",
       "      <td>14</td>\n",
       "      <td>7.4</td>\n",
       "      <td>25.1</td>\n",
       "      <td>0.0</td>\n",
       "      <td>NaN</td>\n",
       "      <td>NaN</td>\n",
       "      <td>9.0</td>\n",
       "      <td>44.0</td>\n",
       "      <td>9.0</td>\n",
       "      <td>...</td>\n",
       "      <td>25.0</td>\n",
       "      <td>1010.6</td>\n",
       "      <td>1007.8</td>\n",
       "      <td>NaN</td>\n",
       "      <td>NaN</td>\n",
       "      <td>17.2</td>\n",
       "      <td>24.3</td>\n",
       "      <td>0.0</td>\n",
       "      <td>0.0</td>\n",
       "      <td>0</td>\n",
       "    </tr>\n",
       "    <tr>\n",
       "      <td>2</td>\n",
       "      <td>12</td>\n",
       "      <td>14</td>\n",
       "      <td>12.9</td>\n",
       "      <td>25.7</td>\n",
       "      <td>0.0</td>\n",
       "      <td>NaN</td>\n",
       "      <td>NaN</td>\n",
       "      <td>6.0</td>\n",
       "      <td>46.0</td>\n",
       "      <td>6.0</td>\n",
       "      <td>...</td>\n",
       "      <td>30.0</td>\n",
       "      <td>1007.6</td>\n",
       "      <td>1008.7</td>\n",
       "      <td>NaN</td>\n",
       "      <td>2.0</td>\n",
       "      <td>21.0</td>\n",
       "      <td>23.2</td>\n",
       "      <td>0.0</td>\n",
       "      <td>0.0</td>\n",
       "      <td>0</td>\n",
       "    </tr>\n",
       "    <tr>\n",
       "      <td>3</td>\n",
       "      <td>12</td>\n",
       "      <td>14</td>\n",
       "      <td>9.2</td>\n",
       "      <td>28.0</td>\n",
       "      <td>0.0</td>\n",
       "      <td>NaN</td>\n",
       "      <td>NaN</td>\n",
       "      <td>13.0</td>\n",
       "      <td>24.0</td>\n",
       "      <td>1.0</td>\n",
       "      <td>...</td>\n",
       "      <td>16.0</td>\n",
       "      <td>1017.6</td>\n",
       "      <td>1012.8</td>\n",
       "      <td>NaN</td>\n",
       "      <td>NaN</td>\n",
       "      <td>18.1</td>\n",
       "      <td>26.5</td>\n",
       "      <td>0.0</td>\n",
       "      <td>1.0</td>\n",
       "      <td>0</td>\n",
       "    </tr>\n",
       "    <tr>\n",
       "      <td>4</td>\n",
       "      <td>12</td>\n",
       "      <td>14</td>\n",
       "      <td>17.5</td>\n",
       "      <td>32.3</td>\n",
       "      <td>1.0</td>\n",
       "      <td>NaN</td>\n",
       "      <td>NaN</td>\n",
       "      <td>0.0</td>\n",
       "      <td>41.0</td>\n",
       "      <td>10.0</td>\n",
       "      <td>...</td>\n",
       "      <td>33.0</td>\n",
       "      <td>1010.8</td>\n",
       "      <td>1006.0</td>\n",
       "      <td>7.0</td>\n",
       "      <td>8.0</td>\n",
       "      <td>17.8</td>\n",
       "      <td>29.7</td>\n",
       "      <td>0.0</td>\n",
       "      <td>0.2</td>\n",
       "      <td>0</td>\n",
       "    </tr>\n",
       "  </tbody>\n",
       "</table>\n",
       "<p>5 rows × 24 columns</p>\n",
       "</div>"
      ],
      "text/plain": [
       "   Month  Location  MinTemp  MaxTemp  Rainfall  Evaporation  Sunshine  \\\n",
       "0     12        14     13.4     22.9       0.6          NaN       NaN   \n",
       "1     12        14      7.4     25.1       0.0          NaN       NaN   \n",
       "2     12        14     12.9     25.7       0.0          NaN       NaN   \n",
       "3     12        14      9.2     28.0       0.0          NaN       NaN   \n",
       "4     12        14     17.5     32.3       1.0          NaN       NaN   \n",
       "\n",
       "   WindGustDir  WindGustSpeed  WindDir9am  ...  Humidity3pm  Pressure9am  \\\n",
       "0          0.0           44.0         6.0  ...         22.0       1007.7   \n",
       "1          9.0           44.0         9.0  ...         25.0       1010.6   \n",
       "2          6.0           46.0         6.0  ...         30.0       1007.6   \n",
       "3         13.0           24.0         1.0  ...         16.0       1017.6   \n",
       "4          0.0           41.0        10.0  ...         33.0       1010.8   \n",
       "\n",
       "   Pressure3pm  Cloud9am  Cloud3pm  Temp9am  Temp3pm  RainToday  RISK_MM  \\\n",
       "0       1007.1       8.0       NaN     16.9     21.8        0.0      0.0   \n",
       "1       1007.8       NaN       NaN     17.2     24.3        0.0      0.0   \n",
       "2       1008.7       NaN       2.0     21.0     23.2        0.0      0.0   \n",
       "3       1012.8       NaN       NaN     18.1     26.5        0.0      1.0   \n",
       "4       1006.0       7.0       8.0     17.8     29.7        0.0      0.2   \n",
       "\n",
       "   RainTomorrow  \n",
       "0             0  \n",
       "1             0  \n",
       "2             0  \n",
       "3             0  \n",
       "4             0  \n",
       "\n",
       "[5 rows x 24 columns]"
      ]
     },
     "execution_count": 94,
     "metadata": {},
     "output_type": "execute_result"
    }
   ],
   "source": [
    "#Change WindDir3pm data type \n",
    "WindDir3pm_list = df['WindDir3pm'].value_counts().index.tolist()\n",
    "WindDir3pm_dict = { i:j for i,j in zip( WindDir3pm_list, range(len(WindDir3pm_list)) ) } \n",
    "df['WindDir3pm'] = df['WindDir3pm'].map(WindDir3pm_dict)\n",
    "df.head()"
   ]
  },
  {
   "cell_type": "code",
   "execution_count": 39,
   "metadata": {},
   "outputs": [
    {
     "data": {
      "text/plain": [
       "Month              int64\n",
       "Location           int64\n",
       "MinTemp          float64\n",
       "MaxTemp          float64\n",
       "Rainfall         float64\n",
       "Evaporation      float64\n",
       "Sunshine         float64\n",
       "WindGustDir      float64\n",
       "WindGustSpeed    float64\n",
       "WindDir9am       float64\n",
       "WindDir3pm       float64\n",
       "WindSpeed9am     float64\n",
       "WindSpeed3pm     float64\n",
       "Humidity9am      float64\n",
       "Humidity3pm      float64\n",
       "Pressure9am      float64\n",
       "Pressure3pm      float64\n",
       "Cloud9am         float64\n",
       "Cloud3pm         float64\n",
       "Temp9am          float64\n",
       "Temp3pm          float64\n",
       "RainToday        float64\n",
       "RISK_MM          float64\n",
       "RainTomorrow       int64\n",
       "dtype: object"
      ]
     },
     "execution_count": 39,
     "metadata": {},
     "output_type": "execute_result"
    }
   ],
   "source": [
    "#Final data type check\n",
    "#No object type variables. \n",
    "df.dtypes"
   ]
  },
  {
   "cell_type": "markdown",
   "metadata": {},
   "source": [
    " - Inspect missing values and delete the columns that have more than half null values. "
   ]
  },
  {
   "cell_type": "code",
   "execution_count": 40,
   "metadata": {},
   "outputs": [
    {
     "data": {
      "text/plain": [
       "Month                0\n",
       "Location             0\n",
       "MinTemp            637\n",
       "MaxTemp            322\n",
       "Rainfall          1406\n",
       "Evaporation      60843\n",
       "Sunshine         67816\n",
       "WindGustDir       9330\n",
       "WindGustSpeed     9270\n",
       "WindDir9am       10013\n",
       "WindDir3pm        3778\n",
       "WindSpeed9am      1348\n",
       "WindSpeed3pm      2630\n",
       "Humidity9am       1774\n",
       "Humidity3pm       3610\n",
       "Pressure9am      14014\n",
       "Pressure3pm      13981\n",
       "Cloud9am         53657\n",
       "Cloud3pm         57094\n",
       "Temp9am            904\n",
       "Temp3pm           2726\n",
       "RainToday         1406\n",
       "RISK_MM              0\n",
       "RainTomorrow         0\n",
       "dtype: int64"
      ]
     },
     "execution_count": 40,
     "metadata": {},
     "output_type": "execute_result"
    }
   ],
   "source": [
    "#Check NULL values. \n",
    "df.isnull().sum()"
   ]
  },
  {
   "cell_type": "code",
   "execution_count": 95,
   "metadata": {},
   "outputs": [],
   "source": [
    "#Delete columns.\n",
    "df = df.drop(columns=['RISK_MM','Evaporation','Sunshine','Cloud9am','Cloud3pm'])"
   ]
  },
  {
   "cell_type": "code",
   "execution_count": 96,
   "metadata": {},
   "outputs": [
    {
     "data": {
      "text/plain": [
       "Month            0\n",
       "Location         0\n",
       "MinTemp          0\n",
       "MaxTemp          0\n",
       "Rainfall         0\n",
       "WindGustDir      0\n",
       "WindGustSpeed    0\n",
       "WindDir9am       0\n",
       "WindDir3pm       0\n",
       "WindSpeed9am     0\n",
       "WindSpeed3pm     0\n",
       "Humidity9am      0\n",
       "Humidity3pm      0\n",
       "Pressure9am      0\n",
       "Pressure3pm      0\n",
       "Temp9am          0\n",
       "Temp3pm          0\n",
       "RainToday        0\n",
       "RainTomorrow     0\n",
       "dtype: int64"
      ]
     },
     "execution_count": 96,
     "metadata": {},
     "output_type": "execute_result"
    }
   ],
   "source": [
    "#Replace with mean the remaining columns and final check. \n",
    "df = df.fillna(df.mean())\n",
    "df.isnull().sum()"
   ]
  },
  {
   "cell_type": "markdown",
   "metadata": {},
   "source": [
    " - Discover relationships and patterns between variables of interest.\n",
    " Before doing any prediction analysis, is important to see if there are any statistical relationships between variables. This step is necesary to help which model should be used in the analysis. To accomplish this step, I am running a correlation analsys display the results as a heatmap."
   ]
  },
  {
   "cell_type": "code",
   "execution_count": 155,
   "metadata": {},
   "outputs": [],
   "source": [
    "#Correlation analysis overview\n",
    "correlation_results = df.corr()\n"
   ]
  },
  {
   "cell_type": "code",
   "execution_count": 98,
   "metadata": {
    "scrolled": false
   },
   "outputs": [
    {
     "data": {
      "image/png": "[encoded data removed]",
      "text/plain": [
       "<Figure size 1008x720 with 2 Axes>"
      ]
     },
     "metadata": {
      "needs_background": "light"
     },
     "output_type": "display_data"
    }
   ],
   "source": [
    "#Because I have a lot of variable it is quite hard to follow all the correlation coeficients and so \n",
    "#I wil display it as a heat map.\n",
    "plt.figure(figsize=(14,10))\n",
    "plt.title('Correlation Heatmap')\n",
    "ax = sns.heatmap(correlation_results, square=True, annot=True, fmt='.2f', linecolor='white')\n",
    "ax.set_xticklabels(ax.get_xticklabels(), rotation=90)\n",
    "ax.set_yticklabels(ax.get_yticklabels(), rotation=30)           \n",
    "plt.show()"
   ]
  },
  {
   "cell_type": "markdown",
   "metadata": {},
   "source": [
    "In the above heatmap, each pair of variables recieves a correlation coeficient. The higher the value of the coeficient is, the stronger the connection between variables is. Lower coeficient indicated weak correlation. In this case I am interested in the positive highly correlated variables. The list below shows the most representative pairs:\n",
    " - Temp3pm & MaxTemp. Correlation coefficient 0.97\n",
    " - Pressure9am & Pressure3pm.Corr coefficient 0.96\n",
    " - Temp9am & MinTemp. Correlation coefficient 0.90\n",
    " - Temp9am & MaxTemp. Correlation coefficient 0.88\n",
    " - Temp9am & Temp3pm. Correlation coefficient 0.85\n",
    " - MaxTemp & MinTemp. Correlation coefficient 0.73\n",
    " - Temp3pm & MinTemp. Correlation coefficient 0.70"
   ]
  },
  {
   "cell_type": "markdown",
   "metadata": {},
   "source": [
    "### 2. Training and testing the models.\n",
    "\n",
    "There are a series of steps necesary before training the model. First, I will split my dataset between training data 75% and testing data 25%. Then I will declare the target variable as Y and the explenatory variables as X. Lastly, I will normalize the datset. This step is important because it helps improbe the performance of the algorithm by eliminating any posible outliers and preserve an equal distribution in the dataset. For this analysis I will be using a MinMaxScaler that will normalize the dataset by scaling all the features to a min and max value range. "
   ]
  },
  {
   "cell_type": "code",
   "execution_count": 99,
   "metadata": {},
   "outputs": [
    {
     "data": {
      "text/html": [
       "<div>\n",
       "<style scoped>\n",
       "    .dataframe tbody tr th:only-of-type {\n",
       "        vertical-align: middle;\n",
       "    }\n",
       "\n",
       "    .dataframe tbody tr th {\n",
       "        vertical-align: top;\n",
       "    }\n",
       "\n",
       "    .dataframe thead th {\n",
       "        text-align: right;\n",
       "    }\n",
       "</style>\n",
       "<table border=\"1\" class=\"dataframe\">\n",
       "  <thead>\n",
       "    <tr style=\"text-align: right;\">\n",
       "      <th></th>\n",
       "      <th>Month</th>\n",
       "      <th>Location</th>\n",
       "      <th>MinTemp</th>\n",
       "      <th>MaxTemp</th>\n",
       "      <th>Rainfall</th>\n",
       "      <th>WindGustDir</th>\n",
       "      <th>WindGustSpeed</th>\n",
       "      <th>WindDir9am</th>\n",
       "      <th>WindDir3pm</th>\n",
       "      <th>WindSpeed9am</th>\n",
       "      <th>WindSpeed3pm</th>\n",
       "      <th>Humidity9am</th>\n",
       "      <th>Humidity3pm</th>\n",
       "      <th>Pressure9am</th>\n",
       "      <th>Pressure3pm</th>\n",
       "      <th>Temp9am</th>\n",
       "      <th>Temp3pm</th>\n",
       "      <th>RainToday</th>\n",
       "      <th>RainTomorrow</th>\n",
       "    </tr>\n",
       "  </thead>\n",
       "  <tbody>\n",
       "    <tr>\n",
       "      <td>12826</td>\n",
       "      <td>9</td>\n",
       "      <td>41</td>\n",
       "      <td>7.7</td>\n",
       "      <td>21.9</td>\n",
       "      <td>0.0</td>\n",
       "      <td>15.0</td>\n",
       "      <td>41.0</td>\n",
       "      <td>12.0</td>\n",
       "      <td>11.0</td>\n",
       "      <td>30.0</td>\n",
       "      <td>11.0</td>\n",
       "      <td>68.84381</td>\n",
       "      <td>51.482606</td>\n",
       "      <td>1029.0</td>\n",
       "      <td>1024.8</td>\n",
       "      <td>16.1</td>\n",
       "      <td>21.5</td>\n",
       "      <td>0.0</td>\n",
       "      <td>0</td>\n",
       "    </tr>\n",
       "    <tr>\n",
       "      <td>32391</td>\n",
       "      <td>4</td>\n",
       "      <td>1</td>\n",
       "      <td>16.0</td>\n",
       "      <td>25.0</td>\n",
       "      <td>0.4</td>\n",
       "      <td>12.0</td>\n",
       "      <td>26.0</td>\n",
       "      <td>14.0</td>\n",
       "      <td>0.0</td>\n",
       "      <td>17.0</td>\n",
       "      <td>15.0</td>\n",
       "      <td>65.00000</td>\n",
       "      <td>57.000000</td>\n",
       "      <td>1022.0</td>\n",
       "      <td>1018.8</td>\n",
       "      <td>19.3</td>\n",
       "      <td>24.0</td>\n",
       "      <td>0.0</td>\n",
       "      <td>0</td>\n",
       "    </tr>\n",
       "    <tr>\n",
       "      <td>185</td>\n",
       "      <td>6</td>\n",
       "      <td>14</td>\n",
       "      <td>2.8</td>\n",
       "      <td>16.1</td>\n",
       "      <td>0.0</td>\n",
       "      <td>0.0</td>\n",
       "      <td>20.0</td>\n",
       "      <td>8.0</td>\n",
       "      <td>1.0</td>\n",
       "      <td>4.0</td>\n",
       "      <td>11.0</td>\n",
       "      <td>86.00000</td>\n",
       "      <td>57.000000</td>\n",
       "      <td>1017.9</td>\n",
       "      <td>1015.1</td>\n",
       "      <td>7.6</td>\n",
       "      <td>15.6</td>\n",
       "      <td>0.0</td>\n",
       "      <td>0</td>\n",
       "    </tr>\n",
       "    <tr>\n",
       "      <td>36029</td>\n",
       "      <td>7</td>\n",
       "      <td>29</td>\n",
       "      <td>2.7</td>\n",
       "      <td>15.7</td>\n",
       "      <td>0.0</td>\n",
       "      <td>13.0</td>\n",
       "      <td>31.0</td>\n",
       "      <td>11.0</td>\n",
       "      <td>11.0</td>\n",
       "      <td>13.0</td>\n",
       "      <td>17.0</td>\n",
       "      <td>78.00000</td>\n",
       "      <td>58.000000</td>\n",
       "      <td>1028.5</td>\n",
       "      <td>1023.7</td>\n",
       "      <td>6.9</td>\n",
       "      <td>14.9</td>\n",
       "      <td>0.0</td>\n",
       "      <td>0</td>\n",
       "    </tr>\n",
       "    <tr>\n",
       "      <td>14020</td>\n",
       "      <td>6</td>\n",
       "      <td>41</td>\n",
       "      <td>7.6</td>\n",
       "      <td>16.3</td>\n",
       "      <td>0.8</td>\n",
       "      <td>7.0</td>\n",
       "      <td>44.0</td>\n",
       "      <td>13.0</td>\n",
       "      <td>4.0</td>\n",
       "      <td>11.0</td>\n",
       "      <td>28.0</td>\n",
       "      <td>96.00000</td>\n",
       "      <td>58.000000</td>\n",
       "      <td>1021.1</td>\n",
       "      <td>1019.3</td>\n",
       "      <td>8.5</td>\n",
       "      <td>15.8</td>\n",
       "      <td>0.0</td>\n",
       "      <td>0</td>\n",
       "    </tr>\n",
       "  </tbody>\n",
       "</table>\n",
       "</div>"
      ],
      "text/plain": [
       "       Month  Location  MinTemp  MaxTemp  Rainfall  WindGustDir  \\\n",
       "12826      9        41      7.7     21.9       0.0         15.0   \n",
       "32391      4         1     16.0     25.0       0.4         12.0   \n",
       "185        6        14      2.8     16.1       0.0          0.0   \n",
       "36029      7        29      2.7     15.7       0.0         13.0   \n",
       "14020      6        41      7.6     16.3       0.8          7.0   \n",
       "\n",
       "       WindGustSpeed  WindDir9am  WindDir3pm  WindSpeed9am  WindSpeed3pm  \\\n",
       "12826           41.0        12.0        11.0          30.0          11.0   \n",
       "32391           26.0        14.0         0.0          17.0          15.0   \n",
       "185             20.0         8.0         1.0           4.0          11.0   \n",
       "36029           31.0        11.0        11.0          13.0          17.0   \n",
       "14020           44.0        13.0         4.0          11.0          28.0   \n",
       "\n",
       "       Humidity9am  Humidity3pm  Pressure9am  Pressure3pm  Temp9am  Temp3pm  \\\n",
       "12826     68.84381    51.482606       1029.0       1024.8     16.1     21.5   \n",
       "32391     65.00000    57.000000       1022.0       1018.8     19.3     24.0   \n",
       "185       86.00000    57.000000       1017.9       1015.1      7.6     15.6   \n",
       "36029     78.00000    58.000000       1028.5       1023.7      6.9     14.9   \n",
       "14020     96.00000    58.000000       1021.1       1019.3      8.5     15.8   \n",
       "\n",
       "       RainToday  RainTomorrow  \n",
       "12826        0.0             0  \n",
       "32391        0.0             0  \n",
       "185          0.0             0  \n",
       "36029        0.0             0  \n",
       "14020        0.0             0  "
      ]
     },
     "execution_count": 99,
     "metadata": {},
     "output_type": "execute_result"
    }
   ],
   "source": [
    "#Split data intro TRAIN(75%) and TEST(25%).\n",
    "from sklearn.model_selection import train_test_split\n",
    "df_train, df_test = train_test_split( df, test_size = 0.25, random_state= 0)\n",
    "df_combine = [ df_train, df_test ]\n",
    "df_train.head()"
   ]
  },
  {
   "cell_type": "code",
   "execution_count": 100,
   "metadata": {},
   "outputs": [
    {
     "data": {
      "text/plain": [
       "((106644, 18), (35549, 18))"
      ]
     },
     "execution_count": 100,
     "metadata": {},
     "output_type": "execute_result"
    }
   ],
   "source": [
    "#Declare explenatory variables as X and target variable as Y.\n",
    "X_train = df_train.drop('RainTomorrow', axis = 1)\n",
    "X_test = df_test.drop('RainTomorrow', axis = 1)\n",
    "y_train = df_train['RainTomorrow']\n",
    "y_test = df_test['RainTomorrow']\n",
    "X_train.shape, X_test.shape"
   ]
  },
  {
   "cell_type": "markdown",
   "metadata": {},
   "source": [
    " - Standardize dataset"
   ]
  },
  {
   "cell_type": "code",
   "execution_count": 101,
   "metadata": {},
   "outputs": [],
   "source": [
    "from sklearn.preprocessing import MinMaxScaler\n",
    "scaler = MinMaxScaler() \n",
    "scaled_values = scaler.fit_transform( X_train ) \n",
    "X_train.loc[:,:] = scaled_values\n",
    "scaled_values = scaler.transform( X_test ) \n",
    "X_test.loc[:,:] = scaled_values\n"
   ]
  },
  {
   "cell_type": "markdown",
   "metadata": {},
   "source": [
    "I run a final statistics to check the distrbution in the train data."
   ]
  },
  {
   "cell_type": "code",
   "execution_count": 54,
   "metadata": {},
   "outputs": [
    {
     "data": {
      "text/html": [
       "<div>\n",
       "<style scoped>\n",
       "    .dataframe tbody tr th:only-of-type {\n",
       "        vertical-align: middle;\n",
       "    }\n",
       "\n",
       "    .dataframe tbody tr th {\n",
       "        vertical-align: top;\n",
       "    }\n",
       "\n",
       "    .dataframe thead th {\n",
       "        text-align: right;\n",
       "    }\n",
       "</style>\n",
       "<table border=\"1\" class=\"dataframe\">\n",
       "  <thead>\n",
       "    <tr style=\"text-align: right;\">\n",
       "      <th></th>\n",
       "      <th>Month</th>\n",
       "      <th>Location</th>\n",
       "      <th>MinTemp</th>\n",
       "      <th>MaxTemp</th>\n",
       "      <th>Rainfall</th>\n",
       "      <th>WindGustDir</th>\n",
       "      <th>WindGustSpeed</th>\n",
       "      <th>WindDir9am</th>\n",
       "      <th>WindDir3pm</th>\n",
       "      <th>WindSpeed9am</th>\n",
       "      <th>WindSpeed3pm</th>\n",
       "      <th>Humidity9am</th>\n",
       "      <th>Humidity3pm</th>\n",
       "      <th>Pressure9am</th>\n",
       "      <th>Pressure3pm</th>\n",
       "      <th>Temp9am</th>\n",
       "      <th>Temp3pm</th>\n",
       "      <th>RainToday</th>\n",
       "    </tr>\n",
       "  </thead>\n",
       "  <tbody>\n",
       "    <tr>\n",
       "      <td>count</td>\n",
       "      <td>106644.000000</td>\n",
       "      <td>106644.000000</td>\n",
       "      <td>106644.000000</td>\n",
       "      <td>106644.000000</td>\n",
       "      <td>106644.000000</td>\n",
       "      <td>106644.000000</td>\n",
       "      <td>106644.000000</td>\n",
       "      <td>106644.000000</td>\n",
       "      <td>106644.000000</td>\n",
       "      <td>106644.000000</td>\n",
       "      <td>106644.000000</td>\n",
       "      <td>106644.000000</td>\n",
       "      <td>106644.000000</td>\n",
       "      <td>106644.000000</td>\n",
       "      <td>106644.000000</td>\n",
       "      <td>106644.000000</td>\n",
       "      <td>106644.000000</td>\n",
       "      <td>106644.000000</td>\n",
       "    </tr>\n",
       "    <tr>\n",
       "      <td>mean</td>\n",
       "      <td>0.491273</td>\n",
       "      <td>0.473988</td>\n",
       "      <td>0.484331</td>\n",
       "      <td>0.529946</td>\n",
       "      <td>0.006304</td>\n",
       "      <td>0.465936</td>\n",
       "      <td>0.263161</td>\n",
       "      <td>0.465586</td>\n",
       "      <td>0.467802</td>\n",
       "      <td>0.107697</td>\n",
       "      <td>0.224276</td>\n",
       "      <td>0.688521</td>\n",
       "      <td>0.514807</td>\n",
       "      <td>0.613958</td>\n",
       "      <td>0.610339</td>\n",
       "      <td>0.510362</td>\n",
       "      <td>0.520067</td>\n",
       "      <td>0.223549</td>\n",
       "    </tr>\n",
       "    <tr>\n",
       "      <td>std</td>\n",
       "      <td>0.311658</td>\n",
       "      <td>0.286935</td>\n",
       "      <td>0.151827</td>\n",
       "      <td>0.134100</td>\n",
       "      <td>0.022594</td>\n",
       "      <td>0.292190</td>\n",
       "      <td>0.101712</td>\n",
       "      <td>0.298785</td>\n",
       "      <td>0.301769</td>\n",
       "      <td>0.067961</td>\n",
       "      <td>0.104843</td>\n",
       "      <td>0.189457</td>\n",
       "      <td>0.205197</td>\n",
       "      <td>0.111349</td>\n",
       "      <td>0.106815</td>\n",
       "      <td>0.136403</td>\n",
       "      <td>0.131566</td>\n",
       "      <td>0.414556</td>\n",
       "    </tr>\n",
       "    <tr>\n",
       "      <td>min</td>\n",
       "      <td>0.000000</td>\n",
       "      <td>0.000000</td>\n",
       "      <td>0.000000</td>\n",
       "      <td>0.000000</td>\n",
       "      <td>0.000000</td>\n",
       "      <td>0.000000</td>\n",
       "      <td>0.000000</td>\n",
       "      <td>0.000000</td>\n",
       "      <td>0.000000</td>\n",
       "      <td>0.000000</td>\n",
       "      <td>0.000000</td>\n",
       "      <td>0.000000</td>\n",
       "      <td>0.000000</td>\n",
       "      <td>0.000000</td>\n",
       "      <td>0.000000</td>\n",
       "      <td>0.000000</td>\n",
       "      <td>0.000000</td>\n",
       "      <td>0.000000</td>\n",
       "    </tr>\n",
       "    <tr>\n",
       "      <td>25%</td>\n",
       "      <td>0.181818</td>\n",
       "      <td>0.229167</td>\n",
       "      <td>0.375297</td>\n",
       "      <td>0.431002</td>\n",
       "      <td>0.000000</td>\n",
       "      <td>0.200000</td>\n",
       "      <td>0.193798</td>\n",
       "      <td>0.200000</td>\n",
       "      <td>0.200000</td>\n",
       "      <td>0.053846</td>\n",
       "      <td>0.156627</td>\n",
       "      <td>0.570000</td>\n",
       "      <td>0.370000</td>\n",
       "      <td>0.545455</td>\n",
       "      <td>0.542400</td>\n",
       "      <td>0.411392</td>\n",
       "      <td>0.424184</td>\n",
       "      <td>0.000000</td>\n",
       "    </tr>\n",
       "    <tr>\n",
       "      <td>50%</td>\n",
       "      <td>0.454545</td>\n",
       "      <td>0.479167</td>\n",
       "      <td>0.479810</td>\n",
       "      <td>0.519849</td>\n",
       "      <td>0.000000</td>\n",
       "      <td>0.465370</td>\n",
       "      <td>0.255814</td>\n",
       "      <td>0.465598</td>\n",
       "      <td>0.466667</td>\n",
       "      <td>0.100000</td>\n",
       "      <td>0.224549</td>\n",
       "      <td>0.700000</td>\n",
       "      <td>0.514826</td>\n",
       "      <td>0.614112</td>\n",
       "      <td>0.610531</td>\n",
       "      <td>0.506329</td>\n",
       "      <td>0.512476</td>\n",
       "      <td>0.000000</td>\n",
       "    </tr>\n",
       "    <tr>\n",
       "      <td>75%</td>\n",
       "      <td>0.727273</td>\n",
       "      <td>0.729167</td>\n",
       "      <td>0.593824</td>\n",
       "      <td>0.623819</td>\n",
       "      <td>0.002156</td>\n",
       "      <td>0.733333</td>\n",
       "      <td>0.310078</td>\n",
       "      <td>0.733333</td>\n",
       "      <td>0.733333</td>\n",
       "      <td>0.146154</td>\n",
       "      <td>0.289157</td>\n",
       "      <td>0.830000</td>\n",
       "      <td>0.650000</td>\n",
       "      <td>0.682645</td>\n",
       "      <td>0.676800</td>\n",
       "      <td>0.605485</td>\n",
       "      <td>0.608445</td>\n",
       "      <td>0.000000</td>\n",
       "    </tr>\n",
       "    <tr>\n",
       "      <td>max</td>\n",
       "      <td>1.000000</td>\n",
       "      <td>1.000000</td>\n",
       "      <td>1.000000</td>\n",
       "      <td>1.000000</td>\n",
       "      <td>1.000000</td>\n",
       "      <td>1.000000</td>\n",
       "      <td>1.000000</td>\n",
       "      <td>1.000000</td>\n",
       "      <td>1.000000</td>\n",
       "      <td>1.000000</td>\n",
       "      <td>1.000000</td>\n",
       "      <td>1.000000</td>\n",
       "      <td>1.000000</td>\n",
       "      <td>1.000000</td>\n",
       "      <td>1.000000</td>\n",
       "      <td>1.000000</td>\n",
       "      <td>1.000000</td>\n",
       "      <td>1.000000</td>\n",
       "    </tr>\n",
       "  </tbody>\n",
       "</table>\n",
       "</div>"
      ],
      "text/plain": [
       "               Month       Location        MinTemp        MaxTemp  \\\n",
       "count  106644.000000  106644.000000  106644.000000  106644.000000   \n",
       "mean        0.491273       0.473988       0.484331       0.529946   \n",
       "std         0.311658       0.286935       0.151827       0.134100   \n",
       "min         0.000000       0.000000       0.000000       0.000000   \n",
       "25%         0.181818       0.229167       0.375297       0.431002   \n",
       "50%         0.454545       0.479167       0.479810       0.519849   \n",
       "75%         0.727273       0.729167       0.593824       0.623819   \n",
       "max         1.000000       1.000000       1.000000       1.000000   \n",
       "\n",
       "            Rainfall    WindGustDir  WindGustSpeed     WindDir9am  \\\n",
       "count  106644.000000  106644.000000  106644.000000  106644.000000   \n",
       "mean        0.006304       0.465936       0.263161       0.465586   \n",
       "std         0.022594       0.292190       0.101712       0.298785   \n",
       "min         0.000000       0.000000       0.000000       0.000000   \n",
       "25%         0.000000       0.200000       0.193798       0.200000   \n",
       "50%         0.000000       0.465370       0.255814       0.465598   \n",
       "75%         0.002156       0.733333       0.310078       0.733333   \n",
       "max         1.000000       1.000000       1.000000       1.000000   \n",
       "\n",
       "          WindDir3pm   WindSpeed9am   WindSpeed3pm    Humidity9am  \\\n",
       "count  106644.000000  106644.000000  106644.000000  106644.000000   \n",
       "mean        0.467802       0.107697       0.224276       0.688521   \n",
       "std         0.301769       0.067961       0.104843       0.189457   \n",
       "min         0.000000       0.000000       0.000000       0.000000   \n",
       "25%         0.200000       0.053846       0.156627       0.570000   \n",
       "50%         0.466667       0.100000       0.224549       0.700000   \n",
       "75%         0.733333       0.146154       0.289157       0.830000   \n",
       "max         1.000000       1.000000       1.000000       1.000000   \n",
       "\n",
       "         Humidity3pm    Pressure9am    Pressure3pm        Temp9am  \\\n",
       "count  106644.000000  106644.000000  106644.000000  106644.000000   \n",
       "mean        0.514807       0.613958       0.610339       0.510362   \n",
       "std         0.205197       0.111349       0.106815       0.136403   \n",
       "min         0.000000       0.000000       0.000000       0.000000   \n",
       "25%         0.370000       0.545455       0.542400       0.411392   \n",
       "50%         0.514826       0.614112       0.610531       0.506329   \n",
       "75%         0.650000       0.682645       0.676800       0.605485   \n",
       "max         1.000000       1.000000       1.000000       1.000000   \n",
       "\n",
       "             Temp3pm      RainToday  \n",
       "count  106644.000000  106644.000000  \n",
       "mean        0.520067       0.223549  \n",
       "std         0.131566       0.414556  \n",
       "min         0.000000       0.000000  \n",
       "25%         0.424184       0.000000  \n",
       "50%         0.512476       0.000000  \n",
       "75%         0.608445       0.000000  \n",
       "max         1.000000       1.000000  "
      ]
     },
     "execution_count": 54,
     "metadata": {},
     "output_type": "execute_result"
    }
   ],
   "source": [
    "X_train.describe()"
   ]
  },
  {
   "attachments": {},
   "cell_type": "markdown",
   "metadata": {},
   "source": [
    "### Algorithm comparison and results.\n",
    "\n",
    "For this analysis I decided to run 4 classifying algorithrms to predict upcoming rainy days in Australia.\n",
    " - Logistic Regression Model. Estimates the probability of an even to occur, in this case a rainy-day vs a non rainy day to occur, when controlling for a number of factors (weather indicators). This model is widely used when the outcome variable is binary, like in this analysis, and so I expect high performance from this model.\n",
    " - Gaussian Naive Bayes Algorithm. Returns the probability of the given feature vector X  being associated with a label Y. This model runs better with a small dataset and usually used for text classification. Given the fact that my dataset is quite large and the high correlation between 6 of the variables, this model might not record high accuracy results. \n",
    " - Random Forest Classifier. Takes random samples from dataset to create decision trees that will be used to extract the average of those decisions and form a more refined model. For this analysis I will start with 100 tree samples. Overall this model performs a complex analysis and works well with large datasets. \n",
    " - Decision Tree Classifier. The most popular, straight forward classifier. It splits the data into partitions using as main parameter the target variable.\n"
   ]
  },
  {
   "cell_type": "code",
   "execution_count": 102,
   "metadata": {},
   "outputs": [],
   "source": [
    "#Import packages for the analysis. \n",
    "from sklearn.linear_model import LogisticRegression\n",
    "from sklearn.svm import SVC, LinearSVC\n",
    "from sklearn.ensemble import RandomForestClassifier\n",
    "from sklearn.naive_bayes import GaussianNB\n",
    "from sklearn.tree import DecisionTreeClassifier\n",
    "from sklearn.metrics import accuracy_score\n",
    "from sklearn.metrics import confusion_matrix\n",
    "from sklearn.metrics import classification_report\n",
    "from sklearn.metrics import roc_auc_score"
   ]
  },
  {
   "cell_type": "markdown",
   "metadata": {},
   "source": [
    " -  Logistic Regression Model"
   ]
  },
  {
   "cell_type": "code",
   "execution_count": 69,
   "metadata": {},
   "outputs": [
    {
     "name": "stdout",
     "output_type": "stream",
     "text": [
      "Model Score:0.8414020084953163\n"
     ]
    },
    {
     "name": "stderr",
     "output_type": "stream",
     "text": [
      "C:\\Users\\diana\\AppData\\Local\\conda\\conda\\envs\\DianaM_env\\lib\\site-packages\\sklearn\\linear_model\\_logistic.py:940: ConvergenceWarning: lbfgs failed to converge (status=1):\n",
      "STOP: TOTAL NO. of ITERATIONS REACHED LIMIT.\n",
      "\n",
      "Increase the number of iterations (max_iter) or scale the data as shown in:\n",
      "    https://scikit-learn.org/stable/modules/preprocessing.html\n",
      "Please also refer to the documentation for alternative solver options:\n",
      "    https://scikit-learn.org/stable/modules/linear_model.html#logistic-regression\n",
      "  extra_warning_msg=_LOGISTIC_SOLVER_CONVERGENCE_MSG)\n"
     ]
    }
   ],
   "source": [
    "# Logistic Regression\n",
    "logreg = LogisticRegression()\n",
    "logreg.fit(X_train, y_train)\n",
    "y_pred_logreg = logreg.predict(X_test)\n",
    "acc_log_reg1 = accuracy_score(y_test,y_pred_logreg) \n",
    "print('Model Score:'+ format(acc_log_reg1))\n"
   ]
  },
  {
   "cell_type": "markdown",
   "metadata": {},
   "source": [
    " - Gaussian Naive Bayes Algorithm "
   ]
  },
  {
   "cell_type": "code",
   "execution_count": 70,
   "metadata": {},
   "outputs": [
    {
     "name": "stdout",
     "output_type": "stream",
     "text": [
      "0.8093335958817407\n"
     ]
    }
   ],
   "source": [
    "# Gaussian Naive Bayes\n",
    "gaussian = GaussianNB()\n",
    "gaussian.fit(X_train, y_train)\n",
    "y_pred = gaussian.predict(X_test)\n",
    "acc_GNV = accuracy_score(y_test,y_pred) \n",
    "print(acc_GNV)"
   ]
  },
  {
   "cell_type": "markdown",
   "metadata": {},
   "source": [
    " - Random Forest Classifier"
   ]
  },
  {
   "cell_type": "code",
   "execution_count": 103,
   "metadata": {},
   "outputs": [
    {
     "name": "stdout",
     "output_type": "stream",
     "text": [
      "0.8552420602548595\n"
     ]
    }
   ],
   "source": [
    "# Random Forest\n",
    "random_forest = RandomForestClassifier(n_estimators=100)\n",
    "random_forest.fit(X_train, y_train)\n",
    "y_pred_rf = random_forest.predict(X_test)\n",
    "acc_random_forest1 = accuracy_score(y_test,y_pred_rf) \n",
    "print(acc_random_forest1)"
   ]
  },
  {
   "cell_type": "markdown",
   "metadata": {},
   "source": [
    " - Decision Tree Classifier"
   ]
  },
  {
   "cell_type": "code",
   "execution_count": 72,
   "metadata": {},
   "outputs": [
    {
     "name": "stdout",
     "output_type": "stream",
     "text": [
      "0.7828912205687923\n"
     ]
    }
   ],
   "source": [
    "# Decision Tree\n",
    "decision_tree = DecisionTreeClassifier()\n",
    "decision_tree.fit(X_train, y_train)\n",
    "y_pred = decision_tree.predict(X_test)\n",
    "acc_decision_tree = accuracy_score(y_test,y_pred) \n",
    "print(acc_decision_tree)"
   ]
  },
  {
   "cell_type": "markdown",
   "metadata": {},
   "source": [
    " - Models Accuracy Results "
   ]
  },
  {
   "cell_type": "code",
   "execution_count": 75,
   "metadata": {},
   "outputs": [
    {
     "data": {
      "text/html": [
       "<div>\n",
       "<style scoped>\n",
       "    .dataframe tbody tr th:only-of-type {\n",
       "        vertical-align: middle;\n",
       "    }\n",
       "\n",
       "    .dataframe tbody tr th {\n",
       "        vertical-align: top;\n",
       "    }\n",
       "\n",
       "    .dataframe thead th {\n",
       "        text-align: right;\n",
       "    }\n",
       "</style>\n",
       "<table border=\"1\" class=\"dataframe\">\n",
       "  <thead>\n",
       "    <tr style=\"text-align: right;\">\n",
       "      <th></th>\n",
       "      <th>ML Model</th>\n",
       "      <th>Model Score</th>\n",
       "    </tr>\n",
       "  </thead>\n",
       "  <tbody>\n",
       "    <tr>\n",
       "      <td>0</td>\n",
       "      <td>Random Forest</td>\n",
       "      <td>0.853498</td>\n",
       "    </tr>\n",
       "    <tr>\n",
       "      <td>1</td>\n",
       "      <td>Logistic Regression</td>\n",
       "      <td>0.841402</td>\n",
       "    </tr>\n",
       "    <tr>\n",
       "      <td>2</td>\n",
       "      <td>Naive Bayes</td>\n",
       "      <td>0.809334</td>\n",
       "    </tr>\n",
       "    <tr>\n",
       "      <td>3</td>\n",
       "      <td>Decision Tree</td>\n",
       "      <td>0.782891</td>\n",
       "    </tr>\n",
       "  </tbody>\n",
       "</table>\n",
       "</div>"
      ],
      "text/plain": [
       "              ML Model  Model Score\n",
       "0        Random Forest     0.853498\n",
       "1  Logistic Regression     0.841402\n",
       "2          Naive Bayes     0.809334\n",
       "3        Decision Tree     0.782891"
      ]
     },
     "execution_count": 75,
     "metadata": {},
     "output_type": "execute_result"
    }
   ],
   "source": [
    "final_score = pd.DataFrame(\n",
    "            {'ML Model': ['Random Forest', 'Logistic Regression', 'Naive Bayes', 'Decision Tree'],\n",
    "             'Model Score': [acc_random_forest1,acc_log_reg1, acc_GNV, acc_decision_tree]})\n",
    "final_score"
   ]
  },
  {
   "cell_type": "markdown",
   "metadata": {},
   "source": [
    "Based on the accuracy results, Random Forest and Logit model return the best scores. And so I will keep the first two model and run a more in deep comparison. "
   ]
  },
  {
   "cell_type": "markdown",
   "metadata": {},
   "source": [
    "### 4. Model comparison\n",
    "\n",
    "In this last part of the analysis, I will be comparing the results of the models that registered high accuracy. But first, I wanted to make sure that the models were analysing correctly the unseen data and I will do this by checking for overfitting. When checking the accuracy score for train data separately from the test data and compare the values, there shouldn't be a big difference between the scores. The higher the difference the greter the error is and so the results can't not be further consider accurate. In this scenario,for both models the differences were quite small: 0.01 for logit model and 0.14 for random forest, which indicates that there is no question of overfitting. \n",
    "\n",
    "\n"
   ]
  },
  {
   "cell_type": "markdown",
   "metadata": {},
   "source": [
    "### Logit model"
   ]
  },
  {
   "cell_type": "code",
   "execution_count": 111,
   "metadata": {},
   "outputs": [
    {
     "name": "stdout",
     "output_type": "stream",
     "text": [
      "Model Score for test data:0.8414020084953163\n",
      "Model Score for train data:0.8388282510033382\n"
     ]
    },
    {
     "name": "stderr",
     "output_type": "stream",
     "text": [
      "C:\\Users\\diana\\AppData\\Local\\conda\\conda\\envs\\DianaM_env\\lib\\site-packages\\sklearn\\linear_model\\_logistic.py:940: ConvergenceWarning: lbfgs failed to converge (status=1):\n",
      "STOP: TOTAL NO. of ITERATIONS REACHED LIMIT.\n",
      "\n",
      "Increase the number of iterations (max_iter) or scale the data as shown in:\n",
      "    https://scikit-learn.org/stable/modules/preprocessing.html\n",
      "Please also refer to the documentation for alternative solver options:\n",
      "    https://scikit-learn.org/stable/modules/linear_model.html#logistic-regression\n",
      "  extra_warning_msg=_LOGISTIC_SOLVER_CONVERGENCE_MSG)\n"
     ]
    }
   ],
   "source": [
    "#Check if model is overfitting \n",
    "logreg = LogisticRegression()\n",
    "logreg.fit(X_train, y_train)\n",
    "y_pred_train = logreg.predict(X_train)\n",
    "acc_log_reg2 = accuracy_score(y_train,y_pred_train) \n",
    "print('Model Score for test data:'+ format(acc_log_reg1))\n",
    "print('Model Score for train data:'+ format(acc_log_reg2))"
   ]
  },
  {
   "cell_type": "markdown",
   "metadata": {},
   "source": [
    "Then, I check the Confusion Matrix results. This is a tool for summarizing the performance of a classification algorithm. This will show the number of observations that were correclty predicted and the number of erros. The summary is represented in a tabular form , but for visualization purposes I also display it as a heatmap. \n",
    "\n",
    "There are four type of outcome indicators that reflect the performace of the model:\n",
    " - True Positives (TP) – The number of observations that were predicted correclty as rainy days. \n",
    " - True Negatives (TN) – The number of observations that were predicted correclty as non-rainy days. \n",
    " - False Positives (FP) – The number of observations that were predicted as rainy days, but actually they were non-rainy days. This is considered a Type1 error. \n",
    " - False Negatives (FN) – The number of observations that were predicted as non-rainy days,where in fact they were non-rainy days. This is a very serious error and it is called Type2 error.\n",
    "\n",
    "Now that I have an understanding of what a Confusion Matrix means, I will interpret the results. Both models returned the a great number of true positive observations, over 25,000. Which indicated that the model predicted correctly rainy days. In the logit model, the second highest number of observations returned as false negative, which is the Type2 error. The model predicted 4,243 times non-rainy days as rainy. This finding is a really big setback for the first model, compared to the random forest model, the second highest value is true negative. The model predicted correctly non-rainy days 4,040 times. As for the Type1 error, the false positive values are the lowest, for both models. The resulting indicators, is another clear sign that random forest has high accuracy score and great model performance."
   ]
  },
  {
   "cell_type": "code",
   "execution_count": 112,
   "metadata": {},
   "outputs": [
    {
     "name": "stdout",
     "output_type": "stream",
     "text": [
      "Confusion matrix\n",
      "\n",
      " [[26148  1395]\n",
      " [ 4243  3763]]\n",
      "\n",
      "True Positives(TP) =  26148\n",
      "\n",
      "True Negatives(TN) =  3763\n",
      "\n",
      "False Positives(FP) =  1395\n",
      "\n",
      "False Negatives(FN) =  4243\n"
     ]
    }
   ],
   "source": [
    "#Confussion Matrix For Losistic Regression\n",
    "cmatrix_logreg = confusion_matrix(y_test, y_pred_logreg)\n",
    "print('Confusion matrix\\n\\n', cmatrix_logreg)\n",
    "print('\\nTrue Positives(TP) = ', cmatrix_logreg[0,0])\n",
    "print('\\nTrue Negatives(TN) = ', cmatrix_logreg[1,1])\n",
    "print('\\nFalse Positives(FP) = ', cmatrix_logreg[0,1])\n",
    "print('\\nFalse Negatives(FN) = ', cmatrix_logreg[1,0])"
   ]
  },
  {
   "cell_type": "code",
   "execution_count": 121,
   "metadata": {},
   "outputs": [
    {
     "data": {
      "text/plain": [
       "<matplotlib.axes._subplots.AxesSubplot at 0x1fed58171d0>"
      ]
     },
     "execution_count": 121,
     "metadata": {},
     "output_type": "execute_result"
    },
    {
     "data": {
      "image/png": "[encoded data removed]",
      "text/plain": [
       "<Figure size 432x288 with 2 Axes>"
      ]
     },
     "metadata": {
      "needs_background": "light"
     },
     "output_type": "display_data"
    }
   ],
   "source": [
    "cm_map1 = pd.DataFrame(data=cmatrix_logreg, columns=['True Positives(TP)', 'True Negatives(TN)'], \n",
    "                                 index=['Predicted Positives(FP)', 'Predicted Negatives(FN)'])\n",
    "\n",
    "sns.heatmap(cm_map1, annot=True, fmt='d', cmap='BuPu')"
   ]
  },
  {
   "cell_type": "markdown",
   "metadata": {},
   "source": [
    "Classification report is another great way to evaluate the models performance. In this reports the results that are  displayed are precision, recall, F1 score and AUC.\n",
    "\n",
    " - Precision is a measure of correclty indentified positive cases from all predicted positive cases. \n",
    " - Recall is a measure of correclty indentified positive cases from all the actual positive cases. \n",
    " - Accuracy is the measure of all correctly identified cases.\n",
    " - F1 score is a harmonic mean of precision and recall.\n",
    " - ROC AUC (Receiver Operating Characteristic - Area Under Curve) is another tool to measure the perfomance of the model. In both cases is 0.70 which leave room for improvement."
   ]
  },
  {
   "cell_type": "code",
   "execution_count": 78,
   "metadata": {},
   "outputs": [
    {
     "name": "stdout",
     "output_type": "stream",
     "text": [
      "              precision    recall  f1-score   support\n",
      "\n",
      "           0       0.86      0.95      0.90     27543\n",
      "           1       0.73      0.47      0.57      8006\n",
      "\n",
      "    accuracy                           0.84     35549\n",
      "   macro avg       0.79      0.71      0.74     35549\n",
      "weighted avg       0.83      0.84      0.83     35549\n",
      "\n"
     ]
    }
   ],
   "source": [
    "print(classification_report(y_test, y_pred_logreg))"
   ]
  },
  {
   "cell_type": "code",
   "execution_count": 79,
   "metadata": {},
   "outputs": [
    {
     "name": "stdout",
     "output_type": "stream",
     "text": [
      "ROC AUC : 0.7097\n"
     ]
    }
   ],
   "source": [
    "#An ROC curve (receiver operating characteristic curve) is a graph showing the performance of a classification model at all classification thresholds.\n",
    "#This curve plots two parameters:\n",
    "ROC_AUC = roc_auc_score(y_test, y_pred_logreg)\n",
    "\n",
    "print('ROC AUC : {:.4f}'.format(ROC_AUC))"
   ]
  },
  {
   "cell_type": "markdown",
   "metadata": {},
   "source": [
    "### Random Forest Model\n",
    "\n",
    "For this section I am repeting the analysis performed in the logit model and display the results. "
   ]
  },
  {
   "cell_type": "code",
   "execution_count": 104,
   "metadata": {},
   "outputs": [
    {
     "name": "stdout",
     "output_type": "stream",
     "text": [
      "Model Score for test data:0.8552420602548595\n",
      "Model Score for train data:0.9999624920295562\n"
     ]
    }
   ],
   "source": [
    "#Check if model is overfitting \n",
    "random_forest = RandomForestClassifier(n_estimators=100)\n",
    "random_forest.fit(X_train, y_train)\n",
    "y_pred_train = random_forest.predict(X_train)\n",
    "acc_random_forest2 = accuracy_score(y_train,y_pred_train) \n",
    "print('Model Score for test data:'+ format(acc_random_forest1))\n",
    "print('Model Score for train data:'+ format(acc_random_forest2))"
   ]
  },
  {
   "cell_type": "code",
   "execution_count": 105,
   "metadata": {},
   "outputs": [
    {
     "name": "stdout",
     "output_type": "stream",
     "text": [
      "Confusion matrix\n",
      "\n",
      " [[26148  1395]\n",
      " [ 4243  3763]]\n",
      "\n",
      "True Positives(TP) =  26363\n",
      "\n",
      "True Negatives(TN) =  4040\n",
      "\n",
      "False Positives(FP) =  1180\n",
      "\n",
      "False Negatives(FN) =  3966\n"
     ]
    }
   ],
   "source": [
    "#Confussion Matrix For Losistic Regression\n",
    "cmatrix_randomforest = confusion_matrix(y_test, y_pred_rf)\n",
    "print('Confusion matrix\\n\\n', cmatrix_logreg)\n",
    "print('\\nTrue Positives(TP) = ', cmatrix_randomforest[0,0])\n",
    "print('\\nTrue Negatives(TN) = ', cmatrix_randomforest[1,1])\n",
    "print('\\nFalse Positives(FP) = ', cmatrix_randomforest[0,1])\n",
    "print('\\nFalse Negatives(FN) = ', cmatrix_randomforest[1,0])"
   ]
  },
  {
   "cell_type": "code",
   "execution_count": 122,
   "metadata": {},
   "outputs": [
    {
     "data": {
      "text/plain": [
       "<matplotlib.axes._subplots.AxesSubplot at 0x1fed57faeb8>"
      ]
     },
     "execution_count": 122,
     "metadata": {},
     "output_type": "execute_result"
    },
    {
     "data": {
      "image/png": "[encoded data removed]",
      "text/plain": [
       "<Figure size 432x288 with 2 Axes>"
      ]
     },
     "metadata": {
      "needs_background": "light"
     },
     "output_type": "display_data"
    }
   ],
   "source": [
    "cm_map2 = pd.DataFrame(data=cmatrix_randomforest, columns=['True Positives(TP)', 'True Negatives(TN)'], \n",
    "                                 index=['Predicted Positives(FP)', 'Predicted Negatives(FN)'])\n",
    "\n",
    "sns.heatmap(cm_map2, annot=True, fmt='d', cmap='BuPu')"
   ]
  },
  {
   "cell_type": "code",
   "execution_count": 106,
   "metadata": {},
   "outputs": [
    {
     "name": "stdout",
     "output_type": "stream",
     "text": [
      "              precision    recall  f1-score   support\n",
      "\n",
      "           0       0.87      0.96      0.91     27543\n",
      "           1       0.77      0.50      0.61      8006\n",
      "\n",
      "    accuracy                           0.86     35549\n",
      "   macro avg       0.82      0.73      0.76     35549\n",
      "weighted avg       0.85      0.86      0.84     35549\n",
      "\n"
     ]
    }
   ],
   "source": [
    "print(classification_report(y_test, y_pred_rf))"
   ]
  },
  {
   "cell_type": "code",
   "execution_count": 107,
   "metadata": {},
   "outputs": [
    {
     "name": "stdout",
     "output_type": "stream",
     "text": [
      "ROC AUC : 0.7097\n"
     ]
    }
   ],
   "source": [
    "#An ROC curve (receiver operating characteristic curve) is a graph showing the performance of a classification model at all classification thresholds.\n",
    "#This curve plots two parameters:\n",
    "ROC_AUC2 = roc_auc_score(y_test, y_pred_rf)\n",
    "\n",
    "print('ROC AUC : {:.4f}'.format(ROC_AUC))"
   ]
  },
  {
   "attachments": {},
   "cell_type": "markdown",
   "metadata": {},
   "source": [
    "### 5. Conclusion and Recommendations\n",
    "\n",
    "\n",
    "With an overall accuracy score of over 0.80 and AUC of 0.70, Random Forest model and Logistic Regression turned out to be the best model predictions as both did a great job at prediction if it will rain or not in Australia. As the models didn't show signs of overfitting, the results are considered valid. \n",
    "\n",
    " - Recommendations\n",
    "For Random forest I would increase the number of tree samples. As for Logistic regression I would try k-Fold Cross Validation to increase the performance of the model and filter the explanatory variables by keeping the highly significant ones. \n",
    "\n",
    "Although Random Forest model returned slightly better results, it is worth to mention that the processing time longer, compared to the logit model. Given the small difference in accuracy between models, in a scenario where the target variable is binary, I would choose logistic regression over random forest. \n"
   ]
  }
 ],
 "metadata": {
  "kernelspec": {
   "display_name": "Python 3",
   "language": "python",
   "name": "python3"
  },
  "language_info": {
   "codemirror_mode": {
    "name": "ipython",
    "version": 3
   },
   "file_extension": ".py",
   "mimetype": "text/x-python",
   "name": "python",
   "nbconvert_exporter": "python",
   "pygments_lexer": "ipython3",
   "version": "3.6.9"
  }
 },
 "nbformat": 4,
 "nbformat_minor": 2
}
